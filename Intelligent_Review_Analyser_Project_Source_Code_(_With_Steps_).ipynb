{
  "nbformat": 4,
  "nbformat_minor": 0,
  "metadata": {
    "colab": {
      "provenance": []
    },
    "kernelspec": {
      "name": "python3",
      "display_name": "Python 3"
    },
    "language_info": {
      "name": "python"
    }
  },
  "cells": [
    {
      "cell_type": "markdown",
      "source": [
        "# **Step 00: Import necessary libraries**"
      ],
      "metadata": {
        "id": "nPHKdYGuPHIE"
      }
    },
    {
      "cell_type": "code",
      "execution_count": null,
      "metadata": {
        "id": "iwnSIDY9OsbB"
      },
      "outputs": [],
      "source": [
        "import numpy as np\n",
        "import pandas as pd"
      ]
    },
    {
      "cell_type": "markdown",
      "source": [
        "# **Step 01: Load dataset**"
      ],
      "metadata": {
        "id": "-9peig8gPEgE"
      }
    },
    {
      "cell_type": "code",
      "source": [
        "\n",
        "df = pd.read_csv(\"/content/sample_data/Reviews.csv\")"
      ],
      "metadata": {
        "id": "vX2kuCPjQMkT",
        "collapsed": true
      },
      "execution_count": null,
      "outputs": []
    },
    {
      "cell_type": "markdown",
      "source": [
        "# **Step 02: Check last 20 rows**"
      ],
      "metadata": {
        "id": "Kx69VmF3PmGs"
      }
    },
    {
      "cell_type": "code",
      "source": [
        "df.tail(20)"
      ],
      "metadata": {
        "id": "VgRK4iq5QgYM",
        "outputId": "8c204207-04f1-4eaa-dc6c-ab93aecd61de",
        "colab": {
          "base_uri": "https://localhost:8080/",
          "height": 728
        }
      },
      "execution_count": null,
      "outputs": [
        {
          "output_type": "execute_result",
          "data": {
            "text/plain": [
              "          Id   ProductId          UserId                       ProfileName  \\\n",
              "47899  47900  B004SRH2B6  A3EJZZ8HPFCTSK                            cmt018   \n",
              "47900  47901  B004SRH2B6  A3J5J16BPO6Q9B                               kel   \n",
              "47901  47902  B004SRH2B6  A186NOZW7YYOX2                        Wurk Indad   \n",
              "47902  47903  B004SRH2B6   A1CT5D2CE2JOH                             Rob M   \n",
              "47903  47904  B004SRH2B6  A3MPTMYAYVVM8M                        E. Gladden   \n",
              "47904  47905  B004SRH2B6  A16FINS0ZM8EJF                       R. E. Wolff   \n",
              "47905  47906  B004SRH2B6  A17ALZ8BNDN17D                                LG   \n",
              "47906  47907  B004SRH2B6   A2H0XZNQKU7MQ                   Lynne \"LynneMH\"   \n",
              "47907  47908  B004SRH2B6   AUJ9KXX20JX4Q                   Jeremy A. Mazur   \n",
              "47908  47909  B004SRH2B6  A1XFDTSZA5Z4X3                           retired   \n",
              "47909  47910  B004SRH2B6   A75AIUX8ZP2UM                            Laurie   \n",
              "47910  47911  B004SRH2B6  A285ML7MDHXA7P                          That Guy   \n",
              "47911  47912  B004SRH2B6   AI75XZ6BENG2E                             kathi   \n",
              "47912  47913  B004SRH2B6  A2X91JL5XPYRAB                                 Z   \n",
              "47913  47914  B004SRH2B6  A1KXIWY4GJIR4F  Emir Eduard Mundopare \"Em Eddie\"   \n",
              "47914  47915  B004SRH2B6  A191ACUFKGFO53                 Cynthia J. Newsom   \n",
              "47915  47916  B004SRH2B6   ABGMKOWUNRCM5        Jennifer Joann Ellis \"Jen\"   \n",
              "47916  47917  B004SRH2B6  A33HIV8RXRDM88      Kanishk Rastogi \"Freelenser\"   \n",
              "47917  47918  B004SRH2B6  A2NXRD80LWHUOP                Mojave Mike \"Mike\"   \n",
              "47918  47919  B004SRH2B6  A3SIZC600PA0AW            miss-honesty \"Tiffany\"   \n",
              "\n",
              "       HelpfulnessNumerator  HelpfulnessDenominator  Score        Time  \\\n",
              "47899                     0                       0      5  1347926400   \n",
              "47900                     0                       0      5  1347840000   \n",
              "47901                     0                       0      2  1347840000   \n",
              "47902                     0                       0      5  1347840000   \n",
              "47903                     0                       0      5  1347667200   \n",
              "47904                     0                       0      3  1347580800   \n",
              "47905                     0                       0      5  1347062400   \n",
              "47906                     0                       0      5  1346976000   \n",
              "47907                     0                       0      5  1346889600   \n",
              "47908                     0                       0      5  1346544000   \n",
              "47909                     0                       0      5  1346112000   \n",
              "47910                     0                       0      4  1345593600   \n",
              "47911                     0                       0      5  1345075200   \n",
              "47912                     0                       0      5  1344556800   \n",
              "47913                     0                       0      5  1344211200   \n",
              "47914                     0                       0      5  1344211200   \n",
              "47915                     0                       0      5  1343347200   \n",
              "47916                     0                       0      5  1342915200   \n",
              "47917                     0                       0      4  1342915200   \n",
              "47918                     0                       0      3  1341532800   \n",
              "\n",
              "                                                 Summary  \\\n",
              "47899                                          Wonderful   \n",
              "47900                                    So far the best   \n",
              "47901                                            Okay...   \n",
              "47902              ZICO - Great stuff - a bit expensive!   \n",
              "47903                           Coconut water \" Yoo-Hoo\"   \n",
              "47904                                 Good but not great   \n",
              "47905                                  Love this stuff!!   \n",
              "47906                                        It's great!   \n",
              "47907                                        great drink   \n",
              "47908                                        Great Stuff   \n",
              "47909                                               Zico   \n",
              "47910                     Not the best, but a good price   \n",
              "47911                            the best coconut water!   \n",
              "47912                                 Zico coconut water   \n",
              "47913  Taste and consistency appear more to the real ...   \n",
              "47914                                       Tastes Great   \n",
              "47915                               Like a light Yoo-Hoo   \n",
              "47916  A refreshing natural taste..feels like straigh...   \n",
              "47917                               This stuff is great!   \n",
              "47918                                      Only good if    \n",
              "\n",
              "                                                    Text  \n",
              "47899  This pure coconut water is my favorite and to ...  \n",
              "47900  I have tried 2 other brands, Vita Coco and Tas...  \n",
              "47901  Doesn't taste like real coconut water.  They m...  \n",
              "47902  ZICO Coconut Water is great stuff.  I wish I c...  \n",
              "47903  I used to love the chocolate drink \"Yoo-Hoo\" g...  \n",
              "47904  Not bad coconut water but doesn't come close t...  \n",
              "47905  This stuff is absolutely amazing!  It tastes t...  \n",
              "47906  I really like this product. It is always fresh...  \n",
              "47907  I like having Zico with dinner, it really quen...  \n",
              "47908  ZICO is wonderful.  What a difference this gre...  \n",
              "47909  I am training for a marathon and was having tr...  \n",
              "47910  This isn't going to be as good as some of the ...  \n",
              "47911  I love this water!!  I am a health care provid...  \n",
              "47912  This is the best tasting coconut water out the...  \n",
              "47913  I grew up in the tropics where the best shade ...  \n",
              "47914  <a href=\"http://www.amazon.com/gp/product/B000...  \n",
              "47915  Delicious! Still light and refreshing enough f...  \n",
              "47916  No need to read reviews and search any more..t...  \n",
              "47917  What this is:  coconut water - not coconut mil...  \n",
              "47918                                                NaN  "
            ],
            "text/html": [
              "\n",
              "  <div id=\"df-b5a24266-640f-4c0b-b998-21455511887b\" class=\"colab-df-container\">\n",
              "    <div>\n",
              "<style scoped>\n",
              "    .dataframe tbody tr th:only-of-type {\n",
              "        vertical-align: middle;\n",
              "    }\n",
              "\n",
              "    .dataframe tbody tr th {\n",
              "        vertical-align: top;\n",
              "    }\n",
              "\n",
              "    .dataframe thead th {\n",
              "        text-align: right;\n",
              "    }\n",
              "</style>\n",
              "<table border=\"1\" class=\"dataframe\">\n",
              "  <thead>\n",
              "    <tr style=\"text-align: right;\">\n",
              "      <th></th>\n",
              "      <th>Id</th>\n",
              "      <th>ProductId</th>\n",
              "      <th>UserId</th>\n",
              "      <th>ProfileName</th>\n",
              "      <th>HelpfulnessNumerator</th>\n",
              "      <th>HelpfulnessDenominator</th>\n",
              "      <th>Score</th>\n",
              "      <th>Time</th>\n",
              "      <th>Summary</th>\n",
              "      <th>Text</th>\n",
              "    </tr>\n",
              "  </thead>\n",
              "  <tbody>\n",
              "    <tr>\n",
              "      <th>47899</th>\n",
              "      <td>47900</td>\n",
              "      <td>B004SRH2B6</td>\n",
              "      <td>A3EJZZ8HPFCTSK</td>\n",
              "      <td>cmt018</td>\n",
              "      <td>0</td>\n",
              "      <td>0</td>\n",
              "      <td>5</td>\n",
              "      <td>1347926400</td>\n",
              "      <td>Wonderful</td>\n",
              "      <td>This pure coconut water is my favorite and to ...</td>\n",
              "    </tr>\n",
              "    <tr>\n",
              "      <th>47900</th>\n",
              "      <td>47901</td>\n",
              "      <td>B004SRH2B6</td>\n",
              "      <td>A3J5J16BPO6Q9B</td>\n",
              "      <td>kel</td>\n",
              "      <td>0</td>\n",
              "      <td>0</td>\n",
              "      <td>5</td>\n",
              "      <td>1347840000</td>\n",
              "      <td>So far the best</td>\n",
              "      <td>I have tried 2 other brands, Vita Coco and Tas...</td>\n",
              "    </tr>\n",
              "    <tr>\n",
              "      <th>47901</th>\n",
              "      <td>47902</td>\n",
              "      <td>B004SRH2B6</td>\n",
              "      <td>A186NOZW7YYOX2</td>\n",
              "      <td>Wurk Indad</td>\n",
              "      <td>0</td>\n",
              "      <td>0</td>\n",
              "      <td>2</td>\n",
              "      <td>1347840000</td>\n",
              "      <td>Okay...</td>\n",
              "      <td>Doesn't taste like real coconut water.  They m...</td>\n",
              "    </tr>\n",
              "    <tr>\n",
              "      <th>47902</th>\n",
              "      <td>47903</td>\n",
              "      <td>B004SRH2B6</td>\n",
              "      <td>A1CT5D2CE2JOH</td>\n",
              "      <td>Rob M</td>\n",
              "      <td>0</td>\n",
              "      <td>0</td>\n",
              "      <td>5</td>\n",
              "      <td>1347840000</td>\n",
              "      <td>ZICO - Great stuff - a bit expensive!</td>\n",
              "      <td>ZICO Coconut Water is great stuff.  I wish I c...</td>\n",
              "    </tr>\n",
              "    <tr>\n",
              "      <th>47903</th>\n",
              "      <td>47904</td>\n",
              "      <td>B004SRH2B6</td>\n",
              "      <td>A3MPTMYAYVVM8M</td>\n",
              "      <td>E. Gladden</td>\n",
              "      <td>0</td>\n",
              "      <td>0</td>\n",
              "      <td>5</td>\n",
              "      <td>1347667200</td>\n",
              "      <td>Coconut water \" Yoo-Hoo\"</td>\n",
              "      <td>I used to love the chocolate drink \"Yoo-Hoo\" g...</td>\n",
              "    </tr>\n",
              "    <tr>\n",
              "      <th>47904</th>\n",
              "      <td>47905</td>\n",
              "      <td>B004SRH2B6</td>\n",
              "      <td>A16FINS0ZM8EJF</td>\n",
              "      <td>R. E. Wolff</td>\n",
              "      <td>0</td>\n",
              "      <td>0</td>\n",
              "      <td>3</td>\n",
              "      <td>1347580800</td>\n",
              "      <td>Good but not great</td>\n",
              "      <td>Not bad coconut water but doesn't come close t...</td>\n",
              "    </tr>\n",
              "    <tr>\n",
              "      <th>47905</th>\n",
              "      <td>47906</td>\n",
              "      <td>B004SRH2B6</td>\n",
              "      <td>A17ALZ8BNDN17D</td>\n",
              "      <td>LG</td>\n",
              "      <td>0</td>\n",
              "      <td>0</td>\n",
              "      <td>5</td>\n",
              "      <td>1347062400</td>\n",
              "      <td>Love this stuff!!</td>\n",
              "      <td>This stuff is absolutely amazing!  It tastes t...</td>\n",
              "    </tr>\n",
              "    <tr>\n",
              "      <th>47906</th>\n",
              "      <td>47907</td>\n",
              "      <td>B004SRH2B6</td>\n",
              "      <td>A2H0XZNQKU7MQ</td>\n",
              "      <td>Lynne \"LynneMH\"</td>\n",
              "      <td>0</td>\n",
              "      <td>0</td>\n",
              "      <td>5</td>\n",
              "      <td>1346976000</td>\n",
              "      <td>It's great!</td>\n",
              "      <td>I really like this product. It is always fresh...</td>\n",
              "    </tr>\n",
              "    <tr>\n",
              "      <th>47907</th>\n",
              "      <td>47908</td>\n",
              "      <td>B004SRH2B6</td>\n",
              "      <td>AUJ9KXX20JX4Q</td>\n",
              "      <td>Jeremy A. Mazur</td>\n",
              "      <td>0</td>\n",
              "      <td>0</td>\n",
              "      <td>5</td>\n",
              "      <td>1346889600</td>\n",
              "      <td>great drink</td>\n",
              "      <td>I like having Zico with dinner, it really quen...</td>\n",
              "    </tr>\n",
              "    <tr>\n",
              "      <th>47908</th>\n",
              "      <td>47909</td>\n",
              "      <td>B004SRH2B6</td>\n",
              "      <td>A1XFDTSZA5Z4X3</td>\n",
              "      <td>retired</td>\n",
              "      <td>0</td>\n",
              "      <td>0</td>\n",
              "      <td>5</td>\n",
              "      <td>1346544000</td>\n",
              "      <td>Great Stuff</td>\n",
              "      <td>ZICO is wonderful.  What a difference this gre...</td>\n",
              "    </tr>\n",
              "    <tr>\n",
              "      <th>47909</th>\n",
              "      <td>47910</td>\n",
              "      <td>B004SRH2B6</td>\n",
              "      <td>A75AIUX8ZP2UM</td>\n",
              "      <td>Laurie</td>\n",
              "      <td>0</td>\n",
              "      <td>0</td>\n",
              "      <td>5</td>\n",
              "      <td>1346112000</td>\n",
              "      <td>Zico</td>\n",
              "      <td>I am training for a marathon and was having tr...</td>\n",
              "    </tr>\n",
              "    <tr>\n",
              "      <th>47910</th>\n",
              "      <td>47911</td>\n",
              "      <td>B004SRH2B6</td>\n",
              "      <td>A285ML7MDHXA7P</td>\n",
              "      <td>That Guy</td>\n",
              "      <td>0</td>\n",
              "      <td>0</td>\n",
              "      <td>4</td>\n",
              "      <td>1345593600</td>\n",
              "      <td>Not the best, but a good price</td>\n",
              "      <td>This isn't going to be as good as some of the ...</td>\n",
              "    </tr>\n",
              "    <tr>\n",
              "      <th>47911</th>\n",
              "      <td>47912</td>\n",
              "      <td>B004SRH2B6</td>\n",
              "      <td>AI75XZ6BENG2E</td>\n",
              "      <td>kathi</td>\n",
              "      <td>0</td>\n",
              "      <td>0</td>\n",
              "      <td>5</td>\n",
              "      <td>1345075200</td>\n",
              "      <td>the best coconut water!</td>\n",
              "      <td>I love this water!!  I am a health care provid...</td>\n",
              "    </tr>\n",
              "    <tr>\n",
              "      <th>47912</th>\n",
              "      <td>47913</td>\n",
              "      <td>B004SRH2B6</td>\n",
              "      <td>A2X91JL5XPYRAB</td>\n",
              "      <td>Z</td>\n",
              "      <td>0</td>\n",
              "      <td>0</td>\n",
              "      <td>5</td>\n",
              "      <td>1344556800</td>\n",
              "      <td>Zico coconut water</td>\n",
              "      <td>This is the best tasting coconut water out the...</td>\n",
              "    </tr>\n",
              "    <tr>\n",
              "      <th>47913</th>\n",
              "      <td>47914</td>\n",
              "      <td>B004SRH2B6</td>\n",
              "      <td>A1KXIWY4GJIR4F</td>\n",
              "      <td>Emir Eduard Mundopare \"Em Eddie\"</td>\n",
              "      <td>0</td>\n",
              "      <td>0</td>\n",
              "      <td>5</td>\n",
              "      <td>1344211200</td>\n",
              "      <td>Taste and consistency appear more to the real ...</td>\n",
              "      <td>I grew up in the tropics where the best shade ...</td>\n",
              "    </tr>\n",
              "    <tr>\n",
              "      <th>47914</th>\n",
              "      <td>47915</td>\n",
              "      <td>B004SRH2B6</td>\n",
              "      <td>A191ACUFKGFO53</td>\n",
              "      <td>Cynthia J. Newsom</td>\n",
              "      <td>0</td>\n",
              "      <td>0</td>\n",
              "      <td>5</td>\n",
              "      <td>1344211200</td>\n",
              "      <td>Tastes Great</td>\n",
              "      <td>&lt;a href=\"http://www.amazon.com/gp/product/B000...</td>\n",
              "    </tr>\n",
              "    <tr>\n",
              "      <th>47915</th>\n",
              "      <td>47916</td>\n",
              "      <td>B004SRH2B6</td>\n",
              "      <td>ABGMKOWUNRCM5</td>\n",
              "      <td>Jennifer Joann Ellis \"Jen\"</td>\n",
              "      <td>0</td>\n",
              "      <td>0</td>\n",
              "      <td>5</td>\n",
              "      <td>1343347200</td>\n",
              "      <td>Like a light Yoo-Hoo</td>\n",
              "      <td>Delicious! Still light and refreshing enough f...</td>\n",
              "    </tr>\n",
              "    <tr>\n",
              "      <th>47916</th>\n",
              "      <td>47917</td>\n",
              "      <td>B004SRH2B6</td>\n",
              "      <td>A33HIV8RXRDM88</td>\n",
              "      <td>Kanishk Rastogi \"Freelenser\"</td>\n",
              "      <td>0</td>\n",
              "      <td>0</td>\n",
              "      <td>5</td>\n",
              "      <td>1342915200</td>\n",
              "      <td>A refreshing natural taste..feels like straigh...</td>\n",
              "      <td>No need to read reviews and search any more..t...</td>\n",
              "    </tr>\n",
              "    <tr>\n",
              "      <th>47917</th>\n",
              "      <td>47918</td>\n",
              "      <td>B004SRH2B6</td>\n",
              "      <td>A2NXRD80LWHUOP</td>\n",
              "      <td>Mojave Mike \"Mike\"</td>\n",
              "      <td>0</td>\n",
              "      <td>0</td>\n",
              "      <td>4</td>\n",
              "      <td>1342915200</td>\n",
              "      <td>This stuff is great!</td>\n",
              "      <td>What this is:  coconut water - not coconut mil...</td>\n",
              "    </tr>\n",
              "    <tr>\n",
              "      <th>47918</th>\n",
              "      <td>47919</td>\n",
              "      <td>B004SRH2B6</td>\n",
              "      <td>A3SIZC600PA0AW</td>\n",
              "      <td>miss-honesty \"Tiffany\"</td>\n",
              "      <td>0</td>\n",
              "      <td>0</td>\n",
              "      <td>3</td>\n",
              "      <td>1341532800</td>\n",
              "      <td>Only good if</td>\n",
              "      <td>NaN</td>\n",
              "    </tr>\n",
              "  </tbody>\n",
              "</table>\n",
              "</div>\n",
              "    <div class=\"colab-df-buttons\">\n",
              "\n",
              "  <div class=\"colab-df-container\">\n",
              "    <button class=\"colab-df-convert\" onclick=\"convertToInteractive('df-b5a24266-640f-4c0b-b998-21455511887b')\"\n",
              "            title=\"Convert this dataframe to an interactive table.\"\n",
              "            style=\"display:none;\">\n",
              "\n",
              "  <svg xmlns=\"http://www.w3.org/2000/svg\" height=\"24px\" viewBox=\"0 -960 960 960\">\n",
              "    <path d=\"M120-120v-720h720v720H120Zm60-500h600v-160H180v160Zm220 220h160v-160H400v160Zm0 220h160v-160H400v160ZM180-400h160v-160H180v160Zm440 0h160v-160H620v160ZM180-180h160v-160H180v160Zm440 0h160v-160H620v160Z\"/>\n",
              "  </svg>\n",
              "    </button>\n",
              "\n",
              "  <style>\n",
              "    .colab-df-container {\n",
              "      display:flex;\n",
              "      gap: 12px;\n",
              "    }\n",
              "\n",
              "    .colab-df-convert {\n",
              "      background-color: #E8F0FE;\n",
              "      border: none;\n",
              "      border-radius: 50%;\n",
              "      cursor: pointer;\n",
              "      display: none;\n",
              "      fill: #1967D2;\n",
              "      height: 32px;\n",
              "      padding: 0 0 0 0;\n",
              "      width: 32px;\n",
              "    }\n",
              "\n",
              "    .colab-df-convert:hover {\n",
              "      background-color: #E2EBFA;\n",
              "      box-shadow: 0px 1px 2px rgba(60, 64, 67, 0.3), 0px 1px 3px 1px rgba(60, 64, 67, 0.15);\n",
              "      fill: #174EA6;\n",
              "    }\n",
              "\n",
              "    .colab-df-buttons div {\n",
              "      margin-bottom: 4px;\n",
              "    }\n",
              "\n",
              "    [theme=dark] .colab-df-convert {\n",
              "      background-color: #3B4455;\n",
              "      fill: #D2E3FC;\n",
              "    }\n",
              "\n",
              "    [theme=dark] .colab-df-convert:hover {\n",
              "      background-color: #434B5C;\n",
              "      box-shadow: 0px 1px 3px 1px rgba(0, 0, 0, 0.15);\n",
              "      filter: drop-shadow(0px 1px 2px rgba(0, 0, 0, 0.3));\n",
              "      fill: #FFFFFF;\n",
              "    }\n",
              "  </style>\n",
              "\n",
              "    <script>\n",
              "      const buttonEl =\n",
              "        document.querySelector('#df-b5a24266-640f-4c0b-b998-21455511887b button.colab-df-convert');\n",
              "      buttonEl.style.display =\n",
              "        google.colab.kernel.accessAllowed ? 'block' : 'none';\n",
              "\n",
              "      async function convertToInteractive(key) {\n",
              "        const element = document.querySelector('#df-b5a24266-640f-4c0b-b998-21455511887b');\n",
              "        const dataTable =\n",
              "          await google.colab.kernel.invokeFunction('convertToInteractive',\n",
              "                                                    [key], {});\n",
              "        if (!dataTable) return;\n",
              "\n",
              "        const docLinkHtml = 'Like what you see? Visit the ' +\n",
              "          '<a target=\"_blank\" href=https://colab.research.google.com/notebooks/data_table.ipynb>data table notebook</a>'\n",
              "          + ' to learn more about interactive tables.';\n",
              "        element.innerHTML = '';\n",
              "        dataTable['output_type'] = 'display_data';\n",
              "        await google.colab.output.renderOutput(dataTable, element);\n",
              "        const docLink = document.createElement('div');\n",
              "        docLink.innerHTML = docLinkHtml;\n",
              "        element.appendChild(docLink);\n",
              "      }\n",
              "    </script>\n",
              "  </div>\n",
              "\n",
              "\n",
              "    <div id=\"df-633972b4-ab67-4e12-af95-7460327c2e3d\">\n",
              "      <button class=\"colab-df-quickchart\" onclick=\"quickchart('df-633972b4-ab67-4e12-af95-7460327c2e3d')\"\n",
              "                title=\"Suggest charts\"\n",
              "                style=\"display:none;\">\n",
              "\n",
              "<svg xmlns=\"http://www.w3.org/2000/svg\" height=\"24px\"viewBox=\"0 0 24 24\"\n",
              "     width=\"24px\">\n",
              "    <g>\n",
              "        <path d=\"M19 3H5c-1.1 0-2 .9-2 2v14c0 1.1.9 2 2 2h14c1.1 0 2-.9 2-2V5c0-1.1-.9-2-2-2zM9 17H7v-7h2v7zm4 0h-2V7h2v10zm4 0h-2v-4h2v4z\"/>\n",
              "    </g>\n",
              "</svg>\n",
              "      </button>\n",
              "\n",
              "<style>\n",
              "  .colab-df-quickchart {\n",
              "      --bg-color: #E8F0FE;\n",
              "      --fill-color: #1967D2;\n",
              "      --hover-bg-color: #E2EBFA;\n",
              "      --hover-fill-color: #174EA6;\n",
              "      --disabled-fill-color: #AAA;\n",
              "      --disabled-bg-color: #DDD;\n",
              "  }\n",
              "\n",
              "  [theme=dark] .colab-df-quickchart {\n",
              "      --bg-color: #3B4455;\n",
              "      --fill-color: #D2E3FC;\n",
              "      --hover-bg-color: #434B5C;\n",
              "      --hover-fill-color: #FFFFFF;\n",
              "      --disabled-bg-color: #3B4455;\n",
              "      --disabled-fill-color: #666;\n",
              "  }\n",
              "\n",
              "  .colab-df-quickchart {\n",
              "    background-color: var(--bg-color);\n",
              "    border: none;\n",
              "    border-radius: 50%;\n",
              "    cursor: pointer;\n",
              "    display: none;\n",
              "    fill: var(--fill-color);\n",
              "    height: 32px;\n",
              "    padding: 0;\n",
              "    width: 32px;\n",
              "  }\n",
              "\n",
              "  .colab-df-quickchart:hover {\n",
              "    background-color: var(--hover-bg-color);\n",
              "    box-shadow: 0 1px 2px rgba(60, 64, 67, 0.3), 0 1px 3px 1px rgba(60, 64, 67, 0.15);\n",
              "    fill: var(--button-hover-fill-color);\n",
              "  }\n",
              "\n",
              "  .colab-df-quickchart-complete:disabled,\n",
              "  .colab-df-quickchart-complete:disabled:hover {\n",
              "    background-color: var(--disabled-bg-color);\n",
              "    fill: var(--disabled-fill-color);\n",
              "    box-shadow: none;\n",
              "  }\n",
              "\n",
              "  .colab-df-spinner {\n",
              "    border: 2px solid var(--fill-color);\n",
              "    border-color: transparent;\n",
              "    border-bottom-color: var(--fill-color);\n",
              "    animation:\n",
              "      spin 1s steps(1) infinite;\n",
              "  }\n",
              "\n",
              "  @keyframes spin {\n",
              "    0% {\n",
              "      border-color: transparent;\n",
              "      border-bottom-color: var(--fill-color);\n",
              "      border-left-color: var(--fill-color);\n",
              "    }\n",
              "    20% {\n",
              "      border-color: transparent;\n",
              "      border-left-color: var(--fill-color);\n",
              "      border-top-color: var(--fill-color);\n",
              "    }\n",
              "    30% {\n",
              "      border-color: transparent;\n",
              "      border-left-color: var(--fill-color);\n",
              "      border-top-color: var(--fill-color);\n",
              "      border-right-color: var(--fill-color);\n",
              "    }\n",
              "    40% {\n",
              "      border-color: transparent;\n",
              "      border-right-color: var(--fill-color);\n",
              "      border-top-color: var(--fill-color);\n",
              "    }\n",
              "    60% {\n",
              "      border-color: transparent;\n",
              "      border-right-color: var(--fill-color);\n",
              "    }\n",
              "    80% {\n",
              "      border-color: transparent;\n",
              "      border-right-color: var(--fill-color);\n",
              "      border-bottom-color: var(--fill-color);\n",
              "    }\n",
              "    90% {\n",
              "      border-color: transparent;\n",
              "      border-bottom-color: var(--fill-color);\n",
              "    }\n",
              "  }\n",
              "</style>\n",
              "\n",
              "      <script>\n",
              "        async function quickchart(key) {\n",
              "          const quickchartButtonEl =\n",
              "            document.querySelector('#' + key + ' button');\n",
              "          quickchartButtonEl.disabled = true;  // To prevent multiple clicks.\n",
              "          quickchartButtonEl.classList.add('colab-df-spinner');\n",
              "          try {\n",
              "            const charts = await google.colab.kernel.invokeFunction(\n",
              "                'suggestCharts', [key], {});\n",
              "          } catch (error) {\n",
              "            console.error('Error during call to suggestCharts:', error);\n",
              "          }\n",
              "          quickchartButtonEl.classList.remove('colab-df-spinner');\n",
              "          quickchartButtonEl.classList.add('colab-df-quickchart-complete');\n",
              "        }\n",
              "        (() => {\n",
              "          let quickchartButtonEl =\n",
              "            document.querySelector('#df-633972b4-ab67-4e12-af95-7460327c2e3d button');\n",
              "          quickchartButtonEl.style.display =\n",
              "            google.colab.kernel.accessAllowed ? 'block' : 'none';\n",
              "        })();\n",
              "      </script>\n",
              "    </div>\n",
              "\n",
              "    </div>\n",
              "  </div>\n"
            ],
            "application/vnd.google.colaboratory.intrinsic+json": {
              "type": "dataframe",
              "summary": "{\n  \"name\": \"df\",\n  \"rows\": 20,\n  \"fields\": [\n    {\n      \"column\": \"Id\",\n      \"properties\": {\n        \"dtype\": \"number\",\n        \"std\": 5,\n        \"min\": 47900,\n        \"max\": 47919,\n        \"num_unique_values\": 20,\n        \"samples\": [\n          47900,\n          47917,\n          47915\n        ],\n        \"semantic_type\": \"\",\n        \"description\": \"\"\n      }\n    },\n    {\n      \"column\": \"ProductId\",\n      \"properties\": {\n        \"dtype\": \"category\",\n        \"num_unique_values\": 1,\n        \"samples\": [\n          \"B004SRH2B6\"\n        ],\n        \"semantic_type\": \"\",\n        \"description\": \"\"\n      }\n    },\n    {\n      \"column\": \"UserId\",\n      \"properties\": {\n        \"dtype\": \"string\",\n        \"num_unique_values\": 20,\n        \"samples\": [\n          \"A3EJZZ8HPFCTSK\"\n        ],\n        \"semantic_type\": \"\",\n        \"description\": \"\"\n      }\n    },\n    {\n      \"column\": \"ProfileName\",\n      \"properties\": {\n        \"dtype\": \"string\",\n        \"num_unique_values\": 20,\n        \"samples\": [\n          \"cmt018\"\n        ],\n        \"semantic_type\": \"\",\n        \"description\": \"\"\n      }\n    },\n    {\n      \"column\": \"HelpfulnessNumerator\",\n      \"properties\": {\n        \"dtype\": \"number\",\n        \"std\": 0,\n        \"min\": 0,\n        \"max\": 0,\n        \"num_unique_values\": 1,\n        \"samples\": [\n          0\n        ],\n        \"semantic_type\": \"\",\n        \"description\": \"\"\n      }\n    },\n    {\n      \"column\": \"HelpfulnessDenominator\",\n      \"properties\": {\n        \"dtype\": \"number\",\n        \"std\": 0,\n        \"min\": 0,\n        \"max\": 0,\n        \"num_unique_values\": 1,\n        \"samples\": [\n          0\n        ],\n        \"semantic_type\": \"\",\n        \"description\": \"\"\n      }\n    },\n    {\n      \"column\": \"Score\",\n      \"properties\": {\n        \"dtype\": \"number\",\n        \"std\": 0,\n        \"min\": 2,\n        \"max\": 5,\n        \"num_unique_values\": 4,\n        \"samples\": [\n          2\n        ],\n        \"semantic_type\": \"\",\n        \"description\": \"\"\n      }\n    },\n    {\n      \"column\": \"Time\",\n      \"properties\": {\n        \"dtype\": \"number\",\n        \"std\": 2005483,\n        \"min\": 1341532800,\n        \"max\": 1347926400,\n        \"num_unique_values\": 16,\n        \"samples\": [\n          1347926400\n        ],\n        \"semantic_type\": \"\",\n        \"description\": \"\"\n      }\n    },\n    {\n      \"column\": \"Summary\",\n      \"properties\": {\n        \"dtype\": \"string\",\n        \"num_unique_values\": 20,\n        \"samples\": [\n          \"Wonderful\"\n        ],\n        \"semantic_type\": \"\",\n        \"description\": \"\"\n      }\n    },\n    {\n      \"column\": \"Text\",\n      \"properties\": {\n        \"dtype\": \"string\",\n        \"num_unique_values\": 19,\n        \"samples\": [\n          \"This pure coconut water is my favorite and to be able to get it delivered to the door is awesome. The bottle size is perfect - just enough for refreshment with no waste. The drink chills quickly in the refridgerator and tastes great.\"\n        ],\n        \"semantic_type\": \"\",\n        \"description\": \"\"\n      }\n    }\n  ]\n}"
            }
          },
          "metadata": {},
          "execution_count": 5
        }
      ]
    },
    {
      "cell_type": "markdown",
      "source": [
        "# **Step 03: Check data types**"
      ],
      "metadata": {
        "id": "2C8HrIghPnrU"
      }
    },
    {
      "cell_type": "code",
      "source": [
        "df.dtypes"
      ],
      "metadata": {
        "id": "6Fh-6TiyQhc7",
        "outputId": "bb4eb342-926b-4967-b404-5cd3cb0a0b63",
        "colab": {
          "base_uri": "https://localhost:8080/",
          "height": 398
        }
      },
      "execution_count": null,
      "outputs": [
        {
          "output_type": "execute_result",
          "data": {
            "text/plain": [
              "Id                         int64\n",
              "ProductId                 object\n",
              "UserId                    object\n",
              "ProfileName               object\n",
              "HelpfulnessNumerator       int64\n",
              "HelpfulnessDenominator     int64\n",
              "Score                      int64\n",
              "Time                       int64\n",
              "Summary                   object\n",
              "Text                      object\n",
              "dtype: object"
            ],
            "text/html": [
              "<div>\n",
              "<style scoped>\n",
              "    .dataframe tbody tr th:only-of-type {\n",
              "        vertical-align: middle;\n",
              "    }\n",
              "\n",
              "    .dataframe tbody tr th {\n",
              "        vertical-align: top;\n",
              "    }\n",
              "\n",
              "    .dataframe thead th {\n",
              "        text-align: right;\n",
              "    }\n",
              "</style>\n",
              "<table border=\"1\" class=\"dataframe\">\n",
              "  <thead>\n",
              "    <tr style=\"text-align: right;\">\n",
              "      <th></th>\n",
              "      <th>0</th>\n",
              "    </tr>\n",
              "  </thead>\n",
              "  <tbody>\n",
              "    <tr>\n",
              "      <th>Id</th>\n",
              "      <td>int64</td>\n",
              "    </tr>\n",
              "    <tr>\n",
              "      <th>ProductId</th>\n",
              "      <td>object</td>\n",
              "    </tr>\n",
              "    <tr>\n",
              "      <th>UserId</th>\n",
              "      <td>object</td>\n",
              "    </tr>\n",
              "    <tr>\n",
              "      <th>ProfileName</th>\n",
              "      <td>object</td>\n",
              "    </tr>\n",
              "    <tr>\n",
              "      <th>HelpfulnessNumerator</th>\n",
              "      <td>int64</td>\n",
              "    </tr>\n",
              "    <tr>\n",
              "      <th>HelpfulnessDenominator</th>\n",
              "      <td>int64</td>\n",
              "    </tr>\n",
              "    <tr>\n",
              "      <th>Score</th>\n",
              "      <td>int64</td>\n",
              "    </tr>\n",
              "    <tr>\n",
              "      <th>Time</th>\n",
              "      <td>int64</td>\n",
              "    </tr>\n",
              "    <tr>\n",
              "      <th>Summary</th>\n",
              "      <td>object</td>\n",
              "    </tr>\n",
              "    <tr>\n",
              "      <th>Text</th>\n",
              "      <td>object</td>\n",
              "    </tr>\n",
              "  </tbody>\n",
              "</table>\n",
              "</div><br><label><b>dtype:</b> object</label>"
            ]
          },
          "metadata": {},
          "execution_count": 6
        }
      ]
    },
    {
      "cell_type": "markdown",
      "source": [
        "# **Step 04: Basic statistical description**"
      ],
      "metadata": {
        "id": "ar4nAWRxPqPj"
      }
    },
    {
      "cell_type": "code",
      "source": [
        "df.describe()"
      ],
      "metadata": {
        "id": "I8TIi9eeQpWD",
        "colab": {
          "base_uri": "https://localhost:8080/",
          "height": 300
        },
        "outputId": "95a9877b-165c-4a09-a9a1-b2aa5a02d96d"
      },
      "execution_count": null,
      "outputs": [
        {
          "output_type": "execute_result",
          "data": {
            "text/plain": [
              "                 Id  HelpfulnessNumerator  HelpfulnessDenominator  \\\n",
              "count  47919.000000          47919.000000            47919.000000   \n",
              "mean   23960.000000              1.600806                2.054175   \n",
              "std    13833.168111              5.636381                6.224214   \n",
              "min        1.000000              0.000000                0.000000   \n",
              "25%    11980.500000              0.000000                0.000000   \n",
              "50%    23960.000000              0.000000                1.000000   \n",
              "75%    35939.500000              2.000000                2.000000   \n",
              "max    47919.000000            398.000000              401.000000   \n",
              "\n",
              "              Score          Time  \n",
              "count  47919.000000  4.791900e+04  \n",
              "mean       4.149627  1.295042e+09  \n",
              "std        1.323196  4.728541e+07  \n",
              "min        1.000000  9.617184e+08  \n",
              "25%        4.000000  1.269302e+09  \n",
              "50%        5.000000  1.308874e+09  \n",
              "75%        5.000000  1.330906e+09  \n",
              "max        5.000000  1.351210e+09  "
            ],
            "text/html": [
              "\n",
              "  <div id=\"df-994e2b77-867f-438a-b85c-9b30a0769925\" class=\"colab-df-container\">\n",
              "    <div>\n",
              "<style scoped>\n",
              "    .dataframe tbody tr th:only-of-type {\n",
              "        vertical-align: middle;\n",
              "    }\n",
              "\n",
              "    .dataframe tbody tr th {\n",
              "        vertical-align: top;\n",
              "    }\n",
              "\n",
              "    .dataframe thead th {\n",
              "        text-align: right;\n",
              "    }\n",
              "</style>\n",
              "<table border=\"1\" class=\"dataframe\">\n",
              "  <thead>\n",
              "    <tr style=\"text-align: right;\">\n",
              "      <th></th>\n",
              "      <th>Id</th>\n",
              "      <th>HelpfulnessNumerator</th>\n",
              "      <th>HelpfulnessDenominator</th>\n",
              "      <th>Score</th>\n",
              "      <th>Time</th>\n",
              "    </tr>\n",
              "  </thead>\n",
              "  <tbody>\n",
              "    <tr>\n",
              "      <th>count</th>\n",
              "      <td>47919.000000</td>\n",
              "      <td>47919.000000</td>\n",
              "      <td>47919.000000</td>\n",
              "      <td>47919.000000</td>\n",
              "      <td>4.791900e+04</td>\n",
              "    </tr>\n",
              "    <tr>\n",
              "      <th>mean</th>\n",
              "      <td>23960.000000</td>\n",
              "      <td>1.600806</td>\n",
              "      <td>2.054175</td>\n",
              "      <td>4.149627</td>\n",
              "      <td>1.295042e+09</td>\n",
              "    </tr>\n",
              "    <tr>\n",
              "      <th>std</th>\n",
              "      <td>13833.168111</td>\n",
              "      <td>5.636381</td>\n",
              "      <td>6.224214</td>\n",
              "      <td>1.323196</td>\n",
              "      <td>4.728541e+07</td>\n",
              "    </tr>\n",
              "    <tr>\n",
              "      <th>min</th>\n",
              "      <td>1.000000</td>\n",
              "      <td>0.000000</td>\n",
              "      <td>0.000000</td>\n",
              "      <td>1.000000</td>\n",
              "      <td>9.617184e+08</td>\n",
              "    </tr>\n",
              "    <tr>\n",
              "      <th>25%</th>\n",
              "      <td>11980.500000</td>\n",
              "      <td>0.000000</td>\n",
              "      <td>0.000000</td>\n",
              "      <td>4.000000</td>\n",
              "      <td>1.269302e+09</td>\n",
              "    </tr>\n",
              "    <tr>\n",
              "      <th>50%</th>\n",
              "      <td>23960.000000</td>\n",
              "      <td>0.000000</td>\n",
              "      <td>1.000000</td>\n",
              "      <td>5.000000</td>\n",
              "      <td>1.308874e+09</td>\n",
              "    </tr>\n",
              "    <tr>\n",
              "      <th>75%</th>\n",
              "      <td>35939.500000</td>\n",
              "      <td>2.000000</td>\n",
              "      <td>2.000000</td>\n",
              "      <td>5.000000</td>\n",
              "      <td>1.330906e+09</td>\n",
              "    </tr>\n",
              "    <tr>\n",
              "      <th>max</th>\n",
              "      <td>47919.000000</td>\n",
              "      <td>398.000000</td>\n",
              "      <td>401.000000</td>\n",
              "      <td>5.000000</td>\n",
              "      <td>1.351210e+09</td>\n",
              "    </tr>\n",
              "  </tbody>\n",
              "</table>\n",
              "</div>\n",
              "    <div class=\"colab-df-buttons\">\n",
              "\n",
              "  <div class=\"colab-df-container\">\n",
              "    <button class=\"colab-df-convert\" onclick=\"convertToInteractive('df-994e2b77-867f-438a-b85c-9b30a0769925')\"\n",
              "            title=\"Convert this dataframe to an interactive table.\"\n",
              "            style=\"display:none;\">\n",
              "\n",
              "  <svg xmlns=\"http://www.w3.org/2000/svg\" height=\"24px\" viewBox=\"0 -960 960 960\">\n",
              "    <path d=\"M120-120v-720h720v720H120Zm60-500h600v-160H180v160Zm220 220h160v-160H400v160Zm0 220h160v-160H400v160ZM180-400h160v-160H180v160Zm440 0h160v-160H620v160ZM180-180h160v-160H180v160Zm440 0h160v-160H620v160Z\"/>\n",
              "  </svg>\n",
              "    </button>\n",
              "\n",
              "  <style>\n",
              "    .colab-df-container {\n",
              "      display:flex;\n",
              "      gap: 12px;\n",
              "    }\n",
              "\n",
              "    .colab-df-convert {\n",
              "      background-color: #E8F0FE;\n",
              "      border: none;\n",
              "      border-radius: 50%;\n",
              "      cursor: pointer;\n",
              "      display: none;\n",
              "      fill: #1967D2;\n",
              "      height: 32px;\n",
              "      padding: 0 0 0 0;\n",
              "      width: 32px;\n",
              "    }\n",
              "\n",
              "    .colab-df-convert:hover {\n",
              "      background-color: #E2EBFA;\n",
              "      box-shadow: 0px 1px 2px rgba(60, 64, 67, 0.3), 0px 1px 3px 1px rgba(60, 64, 67, 0.15);\n",
              "      fill: #174EA6;\n",
              "    }\n",
              "\n",
              "    .colab-df-buttons div {\n",
              "      margin-bottom: 4px;\n",
              "    }\n",
              "\n",
              "    [theme=dark] .colab-df-convert {\n",
              "      background-color: #3B4455;\n",
              "      fill: #D2E3FC;\n",
              "    }\n",
              "\n",
              "    [theme=dark] .colab-df-convert:hover {\n",
              "      background-color: #434B5C;\n",
              "      box-shadow: 0px 1px 3px 1px rgba(0, 0, 0, 0.15);\n",
              "      filter: drop-shadow(0px 1px 2px rgba(0, 0, 0, 0.3));\n",
              "      fill: #FFFFFF;\n",
              "    }\n",
              "  </style>\n",
              "\n",
              "    <script>\n",
              "      const buttonEl =\n",
              "        document.querySelector('#df-994e2b77-867f-438a-b85c-9b30a0769925 button.colab-df-convert');\n",
              "      buttonEl.style.display =\n",
              "        google.colab.kernel.accessAllowed ? 'block' : 'none';\n",
              "\n",
              "      async function convertToInteractive(key) {\n",
              "        const element = document.querySelector('#df-994e2b77-867f-438a-b85c-9b30a0769925');\n",
              "        const dataTable =\n",
              "          await google.colab.kernel.invokeFunction('convertToInteractive',\n",
              "                                                    [key], {});\n",
              "        if (!dataTable) return;\n",
              "\n",
              "        const docLinkHtml = 'Like what you see? Visit the ' +\n",
              "          '<a target=\"_blank\" href=https://colab.research.google.com/notebooks/data_table.ipynb>data table notebook</a>'\n",
              "          + ' to learn more about interactive tables.';\n",
              "        element.innerHTML = '';\n",
              "        dataTable['output_type'] = 'display_data';\n",
              "        await google.colab.output.renderOutput(dataTable, element);\n",
              "        const docLink = document.createElement('div');\n",
              "        docLink.innerHTML = docLinkHtml;\n",
              "        element.appendChild(docLink);\n",
              "      }\n",
              "    </script>\n",
              "  </div>\n",
              "\n",
              "\n",
              "    <div id=\"df-c6934630-647c-4547-850e-668247ec7647\">\n",
              "      <button class=\"colab-df-quickchart\" onclick=\"quickchart('df-c6934630-647c-4547-850e-668247ec7647')\"\n",
              "                title=\"Suggest charts\"\n",
              "                style=\"display:none;\">\n",
              "\n",
              "<svg xmlns=\"http://www.w3.org/2000/svg\" height=\"24px\"viewBox=\"0 0 24 24\"\n",
              "     width=\"24px\">\n",
              "    <g>\n",
              "        <path d=\"M19 3H5c-1.1 0-2 .9-2 2v14c0 1.1.9 2 2 2h14c1.1 0 2-.9 2-2V5c0-1.1-.9-2-2-2zM9 17H7v-7h2v7zm4 0h-2V7h2v10zm4 0h-2v-4h2v4z\"/>\n",
              "    </g>\n",
              "</svg>\n",
              "      </button>\n",
              "\n",
              "<style>\n",
              "  .colab-df-quickchart {\n",
              "      --bg-color: #E8F0FE;\n",
              "      --fill-color: #1967D2;\n",
              "      --hover-bg-color: #E2EBFA;\n",
              "      --hover-fill-color: #174EA6;\n",
              "      --disabled-fill-color: #AAA;\n",
              "      --disabled-bg-color: #DDD;\n",
              "  }\n",
              "\n",
              "  [theme=dark] .colab-df-quickchart {\n",
              "      --bg-color: #3B4455;\n",
              "      --fill-color: #D2E3FC;\n",
              "      --hover-bg-color: #434B5C;\n",
              "      --hover-fill-color: #FFFFFF;\n",
              "      --disabled-bg-color: #3B4455;\n",
              "      --disabled-fill-color: #666;\n",
              "  }\n",
              "\n",
              "  .colab-df-quickchart {\n",
              "    background-color: var(--bg-color);\n",
              "    border: none;\n",
              "    border-radius: 50%;\n",
              "    cursor: pointer;\n",
              "    display: none;\n",
              "    fill: var(--fill-color);\n",
              "    height: 32px;\n",
              "    padding: 0;\n",
              "    width: 32px;\n",
              "  }\n",
              "\n",
              "  .colab-df-quickchart:hover {\n",
              "    background-color: var(--hover-bg-color);\n",
              "    box-shadow: 0 1px 2px rgba(60, 64, 67, 0.3), 0 1px 3px 1px rgba(60, 64, 67, 0.15);\n",
              "    fill: var(--button-hover-fill-color);\n",
              "  }\n",
              "\n",
              "  .colab-df-quickchart-complete:disabled,\n",
              "  .colab-df-quickchart-complete:disabled:hover {\n",
              "    background-color: var(--disabled-bg-color);\n",
              "    fill: var(--disabled-fill-color);\n",
              "    box-shadow: none;\n",
              "  }\n",
              "\n",
              "  .colab-df-spinner {\n",
              "    border: 2px solid var(--fill-color);\n",
              "    border-color: transparent;\n",
              "    border-bottom-color: var(--fill-color);\n",
              "    animation:\n",
              "      spin 1s steps(1) infinite;\n",
              "  }\n",
              "\n",
              "  @keyframes spin {\n",
              "    0% {\n",
              "      border-color: transparent;\n",
              "      border-bottom-color: var(--fill-color);\n",
              "      border-left-color: var(--fill-color);\n",
              "    }\n",
              "    20% {\n",
              "      border-color: transparent;\n",
              "      border-left-color: var(--fill-color);\n",
              "      border-top-color: var(--fill-color);\n",
              "    }\n",
              "    30% {\n",
              "      border-color: transparent;\n",
              "      border-left-color: var(--fill-color);\n",
              "      border-top-color: var(--fill-color);\n",
              "      border-right-color: var(--fill-color);\n",
              "    }\n",
              "    40% {\n",
              "      border-color: transparent;\n",
              "      border-right-color: var(--fill-color);\n",
              "      border-top-color: var(--fill-color);\n",
              "    }\n",
              "    60% {\n",
              "      border-color: transparent;\n",
              "      border-right-color: var(--fill-color);\n",
              "    }\n",
              "    80% {\n",
              "      border-color: transparent;\n",
              "      border-right-color: var(--fill-color);\n",
              "      border-bottom-color: var(--fill-color);\n",
              "    }\n",
              "    90% {\n",
              "      border-color: transparent;\n",
              "      border-bottom-color: var(--fill-color);\n",
              "    }\n",
              "  }\n",
              "</style>\n",
              "\n",
              "      <script>\n",
              "        async function quickchart(key) {\n",
              "          const quickchartButtonEl =\n",
              "            document.querySelector('#' + key + ' button');\n",
              "          quickchartButtonEl.disabled = true;  // To prevent multiple clicks.\n",
              "          quickchartButtonEl.classList.add('colab-df-spinner');\n",
              "          try {\n",
              "            const charts = await google.colab.kernel.invokeFunction(\n",
              "                'suggestCharts', [key], {});\n",
              "          } catch (error) {\n",
              "            console.error('Error during call to suggestCharts:', error);\n",
              "          }\n",
              "          quickchartButtonEl.classList.remove('colab-df-spinner');\n",
              "          quickchartButtonEl.classList.add('colab-df-quickchart-complete');\n",
              "        }\n",
              "        (() => {\n",
              "          let quickchartButtonEl =\n",
              "            document.querySelector('#df-c6934630-647c-4547-850e-668247ec7647 button');\n",
              "          quickchartButtonEl.style.display =\n",
              "            google.colab.kernel.accessAllowed ? 'block' : 'none';\n",
              "        })();\n",
              "      </script>\n",
              "    </div>\n",
              "\n",
              "    </div>\n",
              "  </div>\n"
            ],
            "application/vnd.google.colaboratory.intrinsic+json": {
              "type": "dataframe",
              "summary": "{\n  \"name\": \"df\",\n  \"rows\": 8,\n  \"fields\": [\n    {\n      \"column\": \"Id\",\n      \"properties\": {\n        \"dtype\": \"number\",\n        \"std\": 17269.934644039273,\n        \"min\": 1.0,\n        \"max\": 47919.0,\n        \"num_unique_values\": 6,\n        \"samples\": [\n          47919.0,\n          23960.0,\n          35939.5\n        ],\n        \"semantic_type\": \"\",\n        \"description\": \"\"\n      }\n    },\n    {\n      \"column\": \"HelpfulnessNumerator\",\n      \"properties\": {\n        \"dtype\": \"number\",\n        \"std\": 16921.92514063898,\n        \"min\": 0.0,\n        \"max\": 47919.0,\n        \"num_unique_values\": 6,\n        \"samples\": [\n          47919.0,\n          1.6008055259917777,\n          398.0\n        ],\n        \"semantic_type\": \"\",\n        \"description\": \"\"\n      }\n    },\n    {\n      \"column\": \"HelpfulnessDenominator\",\n      \"properties\": {\n        \"dtype\": \"number\",\n        \"std\": 16921.678197457768,\n        \"min\": 0.0,\n        \"max\": 47919.0,\n        \"num_unique_values\": 7,\n        \"samples\": [\n          47919.0,\n          2.054174753229408,\n          2.0\n        ],\n        \"semantic_type\": \"\",\n        \"description\": \"\"\n      }\n    },\n    {\n      \"column\": \"Score\",\n      \"properties\": {\n        \"dtype\": \"number\",\n        \"std\": 16940.638429000417,\n        \"min\": 1.0,\n        \"max\": 47919.0,\n        \"num_unique_values\": 6,\n        \"samples\": [\n          47919.0,\n          4.149627496400175,\n          5.0\n        ],\n        \"semantic_type\": \"\",\n        \"description\": \"\"\n      }\n    },\n    {\n      \"column\": \"Time\",\n      \"properties\": {\n        \"dtype\": \"number\",\n        \"std\": 582253972.1903265,\n        \"min\": 47919.0,\n        \"max\": 1351209600.0,\n        \"num_unique_values\": 8,\n        \"samples\": [\n          1295041969.523571,\n          1308873600.0,\n          47919.0\n        ],\n        \"semantic_type\": \"\",\n        \"description\": \"\"\n      }\n    }\n  ]\n}"
            }
          },
          "metadata": {},
          "execution_count": 7
        }
      ]
    },
    {
      "cell_type": "markdown",
      "source": [
        "# **Step 05: Full statistical description**"
      ],
      "metadata": {
        "id": "lSf_CGtUPsqT"
      }
    },
    {
      "cell_type": "code",
      "source": [
        "df.describe(include=\"all\")"
      ],
      "metadata": {
        "id": "RtbVlHeSQrez",
        "colab": {
          "base_uri": "https://localhost:8080/",
          "height": 394
        },
        "outputId": "92169c36-2ee8-4611-8daf-f8a4d61b3aa1"
      },
      "execution_count": null,
      "outputs": [
        {
          "output_type": "execute_result",
          "data": {
            "text/plain": [
              "                  Id   ProductId         UserId    ProfileName  \\\n",
              "count   47919.000000       47919          47919          47916   \n",
              "unique           NaN        5970          38443          35536   \n",
              "top              NaN  B002QWP89S  AY12DBB0U420B  Gary Peterson   \n",
              "freq             NaN         632             42             42   \n",
              "mean    23960.000000         NaN            NaN            NaN   \n",
              "std     13833.168111         NaN            NaN            NaN   \n",
              "min         1.000000         NaN            NaN            NaN   \n",
              "25%     11980.500000         NaN            NaN            NaN   \n",
              "50%     23960.000000         NaN            NaN            NaN   \n",
              "75%     35939.500000         NaN            NaN            NaN   \n",
              "max     47919.000000         NaN            NaN            NaN   \n",
              "\n",
              "        HelpfulnessNumerator  HelpfulnessDenominator         Score  \\\n",
              "count           47919.000000            47919.000000  47919.000000   \n",
              "unique                   NaN                     NaN           NaN   \n",
              "top                      NaN                     NaN           NaN   \n",
              "freq                     NaN                     NaN           NaN   \n",
              "mean                1.600806                2.054175      4.149627   \n",
              "std                 5.636381                6.224214      1.323196   \n",
              "min                 0.000000                0.000000      1.000000   \n",
              "25%                 0.000000                0.000000      4.000000   \n",
              "50%                 0.000000                1.000000      5.000000   \n",
              "75%                 2.000000                2.000000      5.000000   \n",
              "max               398.000000              401.000000      5.000000   \n",
              "\n",
              "                Time     Summary  \\\n",
              "count   4.791900e+04       47917   \n",
              "unique           NaN       37516   \n",
              "top              NaN  Delicious!   \n",
              "freq             NaN         190   \n",
              "mean    1.295042e+09         NaN   \n",
              "std     4.728541e+07         NaN   \n",
              "min     9.617184e+08         NaN   \n",
              "25%     1.269302e+09         NaN   \n",
              "50%     1.308874e+09         NaN   \n",
              "75%     1.330906e+09         NaN   \n",
              "max     1.351210e+09         NaN   \n",
              "\n",
              "                                                     Text  \n",
              "count                                               47918  \n",
              "unique                                              44368  \n",
              "top     Diamond Almonds<br />Almonds are a good source...  \n",
              "freq                                                   21  \n",
              "mean                                                  NaN  \n",
              "std                                                   NaN  \n",
              "min                                                   NaN  \n",
              "25%                                                   NaN  \n",
              "50%                                                   NaN  \n",
              "75%                                                   NaN  \n",
              "max                                                   NaN  "
            ],
            "text/html": [
              "\n",
              "  <div id=\"df-b75c5f27-25cc-4925-a9f6-ed25b1ac8190\" class=\"colab-df-container\">\n",
              "    <div>\n",
              "<style scoped>\n",
              "    .dataframe tbody tr th:only-of-type {\n",
              "        vertical-align: middle;\n",
              "    }\n",
              "\n",
              "    .dataframe tbody tr th {\n",
              "        vertical-align: top;\n",
              "    }\n",
              "\n",
              "    .dataframe thead th {\n",
              "        text-align: right;\n",
              "    }\n",
              "</style>\n",
              "<table border=\"1\" class=\"dataframe\">\n",
              "  <thead>\n",
              "    <tr style=\"text-align: right;\">\n",
              "      <th></th>\n",
              "      <th>Id</th>\n",
              "      <th>ProductId</th>\n",
              "      <th>UserId</th>\n",
              "      <th>ProfileName</th>\n",
              "      <th>HelpfulnessNumerator</th>\n",
              "      <th>HelpfulnessDenominator</th>\n",
              "      <th>Score</th>\n",
              "      <th>Time</th>\n",
              "      <th>Summary</th>\n",
              "      <th>Text</th>\n",
              "    </tr>\n",
              "  </thead>\n",
              "  <tbody>\n",
              "    <tr>\n",
              "      <th>count</th>\n",
              "      <td>47919.000000</td>\n",
              "      <td>47919</td>\n",
              "      <td>47919</td>\n",
              "      <td>47916</td>\n",
              "      <td>47919.000000</td>\n",
              "      <td>47919.000000</td>\n",
              "      <td>47919.000000</td>\n",
              "      <td>4.791900e+04</td>\n",
              "      <td>47917</td>\n",
              "      <td>47918</td>\n",
              "    </tr>\n",
              "    <tr>\n",
              "      <th>unique</th>\n",
              "      <td>NaN</td>\n",
              "      <td>5970</td>\n",
              "      <td>38443</td>\n",
              "      <td>35536</td>\n",
              "      <td>NaN</td>\n",
              "      <td>NaN</td>\n",
              "      <td>NaN</td>\n",
              "      <td>NaN</td>\n",
              "      <td>37516</td>\n",
              "      <td>44368</td>\n",
              "    </tr>\n",
              "    <tr>\n",
              "      <th>top</th>\n",
              "      <td>NaN</td>\n",
              "      <td>B002QWP89S</td>\n",
              "      <td>AY12DBB0U420B</td>\n",
              "      <td>Gary Peterson</td>\n",
              "      <td>NaN</td>\n",
              "      <td>NaN</td>\n",
              "      <td>NaN</td>\n",
              "      <td>NaN</td>\n",
              "      <td>Delicious!</td>\n",
              "      <td>Diamond Almonds&lt;br /&gt;Almonds are a good source...</td>\n",
              "    </tr>\n",
              "    <tr>\n",
              "      <th>freq</th>\n",
              "      <td>NaN</td>\n",
              "      <td>632</td>\n",
              "      <td>42</td>\n",
              "      <td>42</td>\n",
              "      <td>NaN</td>\n",
              "      <td>NaN</td>\n",
              "      <td>NaN</td>\n",
              "      <td>NaN</td>\n",
              "      <td>190</td>\n",
              "      <td>21</td>\n",
              "    </tr>\n",
              "    <tr>\n",
              "      <th>mean</th>\n",
              "      <td>23960.000000</td>\n",
              "      <td>NaN</td>\n",
              "      <td>NaN</td>\n",
              "      <td>NaN</td>\n",
              "      <td>1.600806</td>\n",
              "      <td>2.054175</td>\n",
              "      <td>4.149627</td>\n",
              "      <td>1.295042e+09</td>\n",
              "      <td>NaN</td>\n",
              "      <td>NaN</td>\n",
              "    </tr>\n",
              "    <tr>\n",
              "      <th>std</th>\n",
              "      <td>13833.168111</td>\n",
              "      <td>NaN</td>\n",
              "      <td>NaN</td>\n",
              "      <td>NaN</td>\n",
              "      <td>5.636381</td>\n",
              "      <td>6.224214</td>\n",
              "      <td>1.323196</td>\n",
              "      <td>4.728541e+07</td>\n",
              "      <td>NaN</td>\n",
              "      <td>NaN</td>\n",
              "    </tr>\n",
              "    <tr>\n",
              "      <th>min</th>\n",
              "      <td>1.000000</td>\n",
              "      <td>NaN</td>\n",
              "      <td>NaN</td>\n",
              "      <td>NaN</td>\n",
              "      <td>0.000000</td>\n",
              "      <td>0.000000</td>\n",
              "      <td>1.000000</td>\n",
              "      <td>9.617184e+08</td>\n",
              "      <td>NaN</td>\n",
              "      <td>NaN</td>\n",
              "    </tr>\n",
              "    <tr>\n",
              "      <th>25%</th>\n",
              "      <td>11980.500000</td>\n",
              "      <td>NaN</td>\n",
              "      <td>NaN</td>\n",
              "      <td>NaN</td>\n",
              "      <td>0.000000</td>\n",
              "      <td>0.000000</td>\n",
              "      <td>4.000000</td>\n",
              "      <td>1.269302e+09</td>\n",
              "      <td>NaN</td>\n",
              "      <td>NaN</td>\n",
              "    </tr>\n",
              "    <tr>\n",
              "      <th>50%</th>\n",
              "      <td>23960.000000</td>\n",
              "      <td>NaN</td>\n",
              "      <td>NaN</td>\n",
              "      <td>NaN</td>\n",
              "      <td>0.000000</td>\n",
              "      <td>1.000000</td>\n",
              "      <td>5.000000</td>\n",
              "      <td>1.308874e+09</td>\n",
              "      <td>NaN</td>\n",
              "      <td>NaN</td>\n",
              "    </tr>\n",
              "    <tr>\n",
              "      <th>75%</th>\n",
              "      <td>35939.500000</td>\n",
              "      <td>NaN</td>\n",
              "      <td>NaN</td>\n",
              "      <td>NaN</td>\n",
              "      <td>2.000000</td>\n",
              "      <td>2.000000</td>\n",
              "      <td>5.000000</td>\n",
              "      <td>1.330906e+09</td>\n",
              "      <td>NaN</td>\n",
              "      <td>NaN</td>\n",
              "    </tr>\n",
              "    <tr>\n",
              "      <th>max</th>\n",
              "      <td>47919.000000</td>\n",
              "      <td>NaN</td>\n",
              "      <td>NaN</td>\n",
              "      <td>NaN</td>\n",
              "      <td>398.000000</td>\n",
              "      <td>401.000000</td>\n",
              "      <td>5.000000</td>\n",
              "      <td>1.351210e+09</td>\n",
              "      <td>NaN</td>\n",
              "      <td>NaN</td>\n",
              "    </tr>\n",
              "  </tbody>\n",
              "</table>\n",
              "</div>\n",
              "    <div class=\"colab-df-buttons\">\n",
              "\n",
              "  <div class=\"colab-df-container\">\n",
              "    <button class=\"colab-df-convert\" onclick=\"convertToInteractive('df-b75c5f27-25cc-4925-a9f6-ed25b1ac8190')\"\n",
              "            title=\"Convert this dataframe to an interactive table.\"\n",
              "            style=\"display:none;\">\n",
              "\n",
              "  <svg xmlns=\"http://www.w3.org/2000/svg\" height=\"24px\" viewBox=\"0 -960 960 960\">\n",
              "    <path d=\"M120-120v-720h720v720H120Zm60-500h600v-160H180v160Zm220 220h160v-160H400v160Zm0 220h160v-160H400v160ZM180-400h160v-160H180v160Zm440 0h160v-160H620v160ZM180-180h160v-160H180v160Zm440 0h160v-160H620v160Z\"/>\n",
              "  </svg>\n",
              "    </button>\n",
              "\n",
              "  <style>\n",
              "    .colab-df-container {\n",
              "      display:flex;\n",
              "      gap: 12px;\n",
              "    }\n",
              "\n",
              "    .colab-df-convert {\n",
              "      background-color: #E8F0FE;\n",
              "      border: none;\n",
              "      border-radius: 50%;\n",
              "      cursor: pointer;\n",
              "      display: none;\n",
              "      fill: #1967D2;\n",
              "      height: 32px;\n",
              "      padding: 0 0 0 0;\n",
              "      width: 32px;\n",
              "    }\n",
              "\n",
              "    .colab-df-convert:hover {\n",
              "      background-color: #E2EBFA;\n",
              "      box-shadow: 0px 1px 2px rgba(60, 64, 67, 0.3), 0px 1px 3px 1px rgba(60, 64, 67, 0.15);\n",
              "      fill: #174EA6;\n",
              "    }\n",
              "\n",
              "    .colab-df-buttons div {\n",
              "      margin-bottom: 4px;\n",
              "    }\n",
              "\n",
              "    [theme=dark] .colab-df-convert {\n",
              "      background-color: #3B4455;\n",
              "      fill: #D2E3FC;\n",
              "    }\n",
              "\n",
              "    [theme=dark] .colab-df-convert:hover {\n",
              "      background-color: #434B5C;\n",
              "      box-shadow: 0px 1px 3px 1px rgba(0, 0, 0, 0.15);\n",
              "      filter: drop-shadow(0px 1px 2px rgba(0, 0, 0, 0.3));\n",
              "      fill: #FFFFFF;\n",
              "    }\n",
              "  </style>\n",
              "\n",
              "    <script>\n",
              "      const buttonEl =\n",
              "        document.querySelector('#df-b75c5f27-25cc-4925-a9f6-ed25b1ac8190 button.colab-df-convert');\n",
              "      buttonEl.style.display =\n",
              "        google.colab.kernel.accessAllowed ? 'block' : 'none';\n",
              "\n",
              "      async function convertToInteractive(key) {\n",
              "        const element = document.querySelector('#df-b75c5f27-25cc-4925-a9f6-ed25b1ac8190');\n",
              "        const dataTable =\n",
              "          await google.colab.kernel.invokeFunction('convertToInteractive',\n",
              "                                                    [key], {});\n",
              "        if (!dataTable) return;\n",
              "\n",
              "        const docLinkHtml = 'Like what you see? Visit the ' +\n",
              "          '<a target=\"_blank\" href=https://colab.research.google.com/notebooks/data_table.ipynb>data table notebook</a>'\n",
              "          + ' to learn more about interactive tables.';\n",
              "        element.innerHTML = '';\n",
              "        dataTable['output_type'] = 'display_data';\n",
              "        await google.colab.output.renderOutput(dataTable, element);\n",
              "        const docLink = document.createElement('div');\n",
              "        docLink.innerHTML = docLinkHtml;\n",
              "        element.appendChild(docLink);\n",
              "      }\n",
              "    </script>\n",
              "  </div>\n",
              "\n",
              "\n",
              "    <div id=\"df-ff3d9b98-2c81-4a91-9719-21f50d5a3804\">\n",
              "      <button class=\"colab-df-quickchart\" onclick=\"quickchart('df-ff3d9b98-2c81-4a91-9719-21f50d5a3804')\"\n",
              "                title=\"Suggest charts\"\n",
              "                style=\"display:none;\">\n",
              "\n",
              "<svg xmlns=\"http://www.w3.org/2000/svg\" height=\"24px\"viewBox=\"0 0 24 24\"\n",
              "     width=\"24px\">\n",
              "    <g>\n",
              "        <path d=\"M19 3H5c-1.1 0-2 .9-2 2v14c0 1.1.9 2 2 2h14c1.1 0 2-.9 2-2V5c0-1.1-.9-2-2-2zM9 17H7v-7h2v7zm4 0h-2V7h2v10zm4 0h-2v-4h2v4z\"/>\n",
              "    </g>\n",
              "</svg>\n",
              "      </button>\n",
              "\n",
              "<style>\n",
              "  .colab-df-quickchart {\n",
              "      --bg-color: #E8F0FE;\n",
              "      --fill-color: #1967D2;\n",
              "      --hover-bg-color: #E2EBFA;\n",
              "      --hover-fill-color: #174EA6;\n",
              "      --disabled-fill-color: #AAA;\n",
              "      --disabled-bg-color: #DDD;\n",
              "  }\n",
              "\n",
              "  [theme=dark] .colab-df-quickchart {\n",
              "      --bg-color: #3B4455;\n",
              "      --fill-color: #D2E3FC;\n",
              "      --hover-bg-color: #434B5C;\n",
              "      --hover-fill-color: #FFFFFF;\n",
              "      --disabled-bg-color: #3B4455;\n",
              "      --disabled-fill-color: #666;\n",
              "  }\n",
              "\n",
              "  .colab-df-quickchart {\n",
              "    background-color: var(--bg-color);\n",
              "    border: none;\n",
              "    border-radius: 50%;\n",
              "    cursor: pointer;\n",
              "    display: none;\n",
              "    fill: var(--fill-color);\n",
              "    height: 32px;\n",
              "    padding: 0;\n",
              "    width: 32px;\n",
              "  }\n",
              "\n",
              "  .colab-df-quickchart:hover {\n",
              "    background-color: var(--hover-bg-color);\n",
              "    box-shadow: 0 1px 2px rgba(60, 64, 67, 0.3), 0 1px 3px 1px rgba(60, 64, 67, 0.15);\n",
              "    fill: var(--button-hover-fill-color);\n",
              "  }\n",
              "\n",
              "  .colab-df-quickchart-complete:disabled,\n",
              "  .colab-df-quickchart-complete:disabled:hover {\n",
              "    background-color: var(--disabled-bg-color);\n",
              "    fill: var(--disabled-fill-color);\n",
              "    box-shadow: none;\n",
              "  }\n",
              "\n",
              "  .colab-df-spinner {\n",
              "    border: 2px solid var(--fill-color);\n",
              "    border-color: transparent;\n",
              "    border-bottom-color: var(--fill-color);\n",
              "    animation:\n",
              "      spin 1s steps(1) infinite;\n",
              "  }\n",
              "\n",
              "  @keyframes spin {\n",
              "    0% {\n",
              "      border-color: transparent;\n",
              "      border-bottom-color: var(--fill-color);\n",
              "      border-left-color: var(--fill-color);\n",
              "    }\n",
              "    20% {\n",
              "      border-color: transparent;\n",
              "      border-left-color: var(--fill-color);\n",
              "      border-top-color: var(--fill-color);\n",
              "    }\n",
              "    30% {\n",
              "      border-color: transparent;\n",
              "      border-left-color: var(--fill-color);\n",
              "      border-top-color: var(--fill-color);\n",
              "      border-right-color: var(--fill-color);\n",
              "    }\n",
              "    40% {\n",
              "      border-color: transparent;\n",
              "      border-right-color: var(--fill-color);\n",
              "      border-top-color: var(--fill-color);\n",
              "    }\n",
              "    60% {\n",
              "      border-color: transparent;\n",
              "      border-right-color: var(--fill-color);\n",
              "    }\n",
              "    80% {\n",
              "      border-color: transparent;\n",
              "      border-right-color: var(--fill-color);\n",
              "      border-bottom-color: var(--fill-color);\n",
              "    }\n",
              "    90% {\n",
              "      border-color: transparent;\n",
              "      border-bottom-color: var(--fill-color);\n",
              "    }\n",
              "  }\n",
              "</style>\n",
              "\n",
              "      <script>\n",
              "        async function quickchart(key) {\n",
              "          const quickchartButtonEl =\n",
              "            document.querySelector('#' + key + ' button');\n",
              "          quickchartButtonEl.disabled = true;  // To prevent multiple clicks.\n",
              "          quickchartButtonEl.classList.add('colab-df-spinner');\n",
              "          try {\n",
              "            const charts = await google.colab.kernel.invokeFunction(\n",
              "                'suggestCharts', [key], {});\n",
              "          } catch (error) {\n",
              "            console.error('Error during call to suggestCharts:', error);\n",
              "          }\n",
              "          quickchartButtonEl.classList.remove('colab-df-spinner');\n",
              "          quickchartButtonEl.classList.add('colab-df-quickchart-complete');\n",
              "        }\n",
              "        (() => {\n",
              "          let quickchartButtonEl =\n",
              "            document.querySelector('#df-ff3d9b98-2c81-4a91-9719-21f50d5a3804 button');\n",
              "          quickchartButtonEl.style.display =\n",
              "            google.colab.kernel.accessAllowed ? 'block' : 'none';\n",
              "        })();\n",
              "      </script>\n",
              "    </div>\n",
              "\n",
              "    </div>\n",
              "  </div>\n"
            ],
            "application/vnd.google.colaboratory.intrinsic+json": {
              "type": "dataframe",
              "summary": "{\n  \"name\": \"df\",\n  \"rows\": 11,\n  \"fields\": [\n    {\n      \"column\": \"Id\",\n      \"properties\": {\n        \"dtype\": \"number\",\n        \"std\": 17269.934644039273,\n        \"min\": 1.0,\n        \"max\": 47919.0,\n        \"num_unique_values\": 6,\n        \"samples\": [\n          47919.0,\n          23960.0,\n          35939.5\n        ],\n        \"semantic_type\": \"\",\n        \"description\": \"\"\n      }\n    },\n    {\n      \"column\": \"ProductId\",\n      \"properties\": {\n        \"dtype\": \"category\",\n        \"num_unique_values\": 4,\n        \"samples\": [\n          5970,\n          \"632\",\n          \"47919\"\n        ],\n        \"semantic_type\": \"\",\n        \"description\": \"\"\n      }\n    },\n    {\n      \"column\": \"UserId\",\n      \"properties\": {\n        \"dtype\": \"category\",\n        \"num_unique_values\": 4,\n        \"samples\": [\n          38443,\n          \"42\",\n          \"47919\"\n        ],\n        \"semantic_type\": \"\",\n        \"description\": \"\"\n      }\n    },\n    {\n      \"column\": \"ProfileName\",\n      \"properties\": {\n        \"dtype\": \"category\",\n        \"num_unique_values\": 4,\n        \"samples\": [\n          35536,\n          \"42\",\n          \"47916\"\n        ],\n        \"semantic_type\": \"\",\n        \"description\": \"\"\n      }\n    },\n    {\n      \"column\": \"HelpfulnessNumerator\",\n      \"properties\": {\n        \"dtype\": \"number\",\n        \"std\": 16921.92514063898,\n        \"min\": 0.0,\n        \"max\": 47919.0,\n        \"num_unique_values\": 6,\n        \"samples\": [\n          47919.0,\n          1.6008055259917777,\n          398.0\n        ],\n        \"semantic_type\": \"\",\n        \"description\": \"\"\n      }\n    },\n    {\n      \"column\": \"HelpfulnessDenominator\",\n      \"properties\": {\n        \"dtype\": \"number\",\n        \"std\": 16921.678197457768,\n        \"min\": 0.0,\n        \"max\": 47919.0,\n        \"num_unique_values\": 7,\n        \"samples\": [\n          47919.0,\n          2.054174753229408,\n          2.0\n        ],\n        \"semantic_type\": \"\",\n        \"description\": \"\"\n      }\n    },\n    {\n      \"column\": \"Score\",\n      \"properties\": {\n        \"dtype\": \"number\",\n        \"std\": 16940.638429000417,\n        \"min\": 1.0,\n        \"max\": 47919.0,\n        \"num_unique_values\": 6,\n        \"samples\": [\n          47919.0,\n          4.149627496400175,\n          5.0\n        ],\n        \"semantic_type\": \"\",\n        \"description\": \"\"\n      }\n    },\n    {\n      \"column\": \"Time\",\n      \"properties\": {\n        \"dtype\": \"number\",\n        \"std\": 582253972.1903265,\n        \"min\": 47919.0,\n        \"max\": 1351209600.0,\n        \"num_unique_values\": 8,\n        \"samples\": [\n          1295041969.523571,\n          1308873600.0,\n          47919.0\n        ],\n        \"semantic_type\": \"\",\n        \"description\": \"\"\n      }\n    },\n    {\n      \"column\": \"Summary\",\n      \"properties\": {\n        \"dtype\": \"category\",\n        \"num_unique_values\": 4,\n        \"samples\": [\n          37516,\n          \"190\",\n          \"47917\"\n        ],\n        \"semantic_type\": \"\",\n        \"description\": \"\"\n      }\n    },\n    {\n      \"column\": \"Text\",\n      \"properties\": {\n        \"dtype\": \"category\",\n        \"num_unique_values\": 4,\n        \"samples\": [\n          44368,\n          \"21\",\n          \"47918\"\n        ],\n        \"semantic_type\": \"\",\n        \"description\": \"\"\n      }\n    }\n  ]\n}"
            }
          },
          "metadata": {},
          "execution_count": 8
        }
      ]
    },
    {
      "cell_type": "markdown",
      "source": [
        "# **Step 06: Dataset info**\n",
        "\n",
        "> Add blockquote\n",
        "\n"
      ],
      "metadata": {
        "id": "vwYqf0XBPua7"
      }
    },
    {
      "cell_type": "code",
      "source": [
        "df.info()"
      ],
      "metadata": {
        "id": "AjowkZKHQubD",
        "colab": {
          "base_uri": "https://localhost:8080/"
        },
        "outputId": "f4e7650f-575d-4324-cb7c-c318a133f96c"
      },
      "execution_count": null,
      "outputs": [
        {
          "output_type": "stream",
          "name": "stdout",
          "text": [
            "<class 'pandas.core.frame.DataFrame'>\n",
            "RangeIndex: 47919 entries, 0 to 47918\n",
            "Data columns (total 10 columns):\n",
            " #   Column                  Non-Null Count  Dtype \n",
            "---  ------                  --------------  ----- \n",
            " 0   Id                      47919 non-null  int64 \n",
            " 1   ProductId               47919 non-null  object\n",
            " 2   UserId                  47919 non-null  object\n",
            " 3   ProfileName             47916 non-null  object\n",
            " 4   HelpfulnessNumerator    47919 non-null  int64 \n",
            " 5   HelpfulnessDenominator  47919 non-null  int64 \n",
            " 6   Score                   47919 non-null  int64 \n",
            " 7   Time                    47919 non-null  int64 \n",
            " 8   Summary                 47917 non-null  object\n",
            " 9   Text                    47918 non-null  object\n",
            "dtypes: int64(5), object(5)\n",
            "memory usage: 3.7+ MB\n"
          ]
        }
      ]
    },
    {
      "cell_type": "markdown",
      "source": [
        "# **Step 07: Check for null values**\n",
        "\n",
        "---\n",
        "\n"
      ],
      "metadata": {
        "id": "D3JcbZ4vPwUz"
      }
    },
    {
      "cell_type": "code",
      "source": [
        "df.isnull().sum()"
      ],
      "metadata": {
        "id": "pZ_EHwDGQw37",
        "colab": {
          "base_uri": "https://localhost:8080/",
          "height": 398
        },
        "outputId": "83d8eb99-5070-4c74-e4ef-74553a2e9722"
      },
      "execution_count": null,
      "outputs": [
        {
          "output_type": "execute_result",
          "data": {
            "text/plain": [
              "Id                        0\n",
              "ProductId                 0\n",
              "UserId                    0\n",
              "ProfileName               3\n",
              "HelpfulnessNumerator      0\n",
              "HelpfulnessDenominator    0\n",
              "Score                     0\n",
              "Time                      0\n",
              "Summary                   2\n",
              "Text                      1\n",
              "dtype: int64"
            ],
            "text/html": [
              "<div>\n",
              "<style scoped>\n",
              "    .dataframe tbody tr th:only-of-type {\n",
              "        vertical-align: middle;\n",
              "    }\n",
              "\n",
              "    .dataframe tbody tr th {\n",
              "        vertical-align: top;\n",
              "    }\n",
              "\n",
              "    .dataframe thead th {\n",
              "        text-align: right;\n",
              "    }\n",
              "</style>\n",
              "<table border=\"1\" class=\"dataframe\">\n",
              "  <thead>\n",
              "    <tr style=\"text-align: right;\">\n",
              "      <th></th>\n",
              "      <th>0</th>\n",
              "    </tr>\n",
              "  </thead>\n",
              "  <tbody>\n",
              "    <tr>\n",
              "      <th>Id</th>\n",
              "      <td>0</td>\n",
              "    </tr>\n",
              "    <tr>\n",
              "      <th>ProductId</th>\n",
              "      <td>0</td>\n",
              "    </tr>\n",
              "    <tr>\n",
              "      <th>UserId</th>\n",
              "      <td>0</td>\n",
              "    </tr>\n",
              "    <tr>\n",
              "      <th>ProfileName</th>\n",
              "      <td>3</td>\n",
              "    </tr>\n",
              "    <tr>\n",
              "      <th>HelpfulnessNumerator</th>\n",
              "      <td>0</td>\n",
              "    </tr>\n",
              "    <tr>\n",
              "      <th>HelpfulnessDenominator</th>\n",
              "      <td>0</td>\n",
              "    </tr>\n",
              "    <tr>\n",
              "      <th>Score</th>\n",
              "      <td>0</td>\n",
              "    </tr>\n",
              "    <tr>\n",
              "      <th>Time</th>\n",
              "      <td>0</td>\n",
              "    </tr>\n",
              "    <tr>\n",
              "      <th>Summary</th>\n",
              "      <td>2</td>\n",
              "    </tr>\n",
              "    <tr>\n",
              "      <th>Text</th>\n",
              "      <td>1</td>\n",
              "    </tr>\n",
              "  </tbody>\n",
              "</table>\n",
              "</div><br><label><b>dtype:</b> int64</label>"
            ]
          },
          "metadata": {},
          "execution_count": 10
        }
      ]
    },
    {
      "cell_type": "markdown",
      "source": [
        "# **Step 08: Detailed missing data analysis**"
      ],
      "metadata": {
        "id": "Yz1OM-W_Px7E"
      }
    },
    {
      "cell_type": "code",
      "source": [
        "missing_data = df.isnull()\n",
        "for column in missing_data.columns.values.tolist():\n",
        "    print(column)\n",
        "    print (missing_data[column].value_counts())\n",
        "    print(\"\")"
      ],
      "metadata": {
        "id": "yTEq9UipQyx7",
        "colab": {
          "base_uri": "https://localhost:8080/"
        },
        "outputId": "a1de9b23-cb39-4b49-e7e5-958ecc9b1707"
      },
      "execution_count": null,
      "outputs": [
        {
          "output_type": "stream",
          "name": "stdout",
          "text": [
            "Id\n",
            "Id\n",
            "False    47919\n",
            "Name: count, dtype: int64\n",
            "\n",
            "ProductId\n",
            "ProductId\n",
            "False    47919\n",
            "Name: count, dtype: int64\n",
            "\n",
            "UserId\n",
            "UserId\n",
            "False    47919\n",
            "Name: count, dtype: int64\n",
            "\n",
            "ProfileName\n",
            "ProfileName\n",
            "False    47916\n",
            "True         3\n",
            "Name: count, dtype: int64\n",
            "\n",
            "HelpfulnessNumerator\n",
            "HelpfulnessNumerator\n",
            "False    47919\n",
            "Name: count, dtype: int64\n",
            "\n",
            "HelpfulnessDenominator\n",
            "HelpfulnessDenominator\n",
            "False    47919\n",
            "Name: count, dtype: int64\n",
            "\n",
            "Score\n",
            "Score\n",
            "False    47919\n",
            "Name: count, dtype: int64\n",
            "\n",
            "Time\n",
            "Time\n",
            "False    47919\n",
            "Name: count, dtype: int64\n",
            "\n",
            "Summary\n",
            "Summary\n",
            "False    47917\n",
            "True         2\n",
            "Name: count, dtype: int64\n",
            "\n",
            "Text\n",
            "Text\n",
            "False    47918\n",
            "True         1\n",
            "Name: count, dtype: int64\n",
            "\n"
          ]
        }
      ]
    },
    {
      "cell_type": "markdown",
      "source": [
        "# **Step 09: Import visualization libraries**"
      ],
      "metadata": {
        "id": "bzo1L483PzYk"
      }
    },
    {
      "cell_type": "code",
      "source": [
        "import matplotlib.pyplot as plt\n",
        "import seaborn as sns"
      ],
      "metadata": {
        "id": "vWrXdedzQ1x6"
      },
      "execution_count": null,
      "outputs": []
    },
    {
      "cell_type": "markdown",
      "source": [
        "# **Step 10: Sample the dataset**"
      ],
      "metadata": {
        "id": "23MtFZ36P1Zc"
      }
    },
    {
      "cell_type": "code",
      "source": [
        "# df = pd.read_csv('/content/Reviews.csv')\n",
        "df = df.sample(n=10000, random_state=42)"
      ],
      "metadata": {
        "id": "Mt09SZTFQ3hT"
      },
      "execution_count": null,
      "outputs": []
    },
    {
      "cell_type": "markdown",
      "source": [
        "# **Step 11: Calculate mean, median, mode for numerical columns**"
      ],
      "metadata": {
        "id": "h215uvuqP8t8"
      }
    },
    {
      "cell_type": "code",
      "source": [
        "\n",
        "# Numerical columns\n",
        "numerical_cols = ['Score', 'HelpfulnessNumerator', 'HelpfulnessDenominator', 'Time']\n",
        "print(\"\\nMean, Median, Mode for Numerical Columns:\")\n",
        "for col in numerical_cols:\n",
        "    mean_val = df[col].mean()\n",
        "    median_val = df[col].median()\n",
        "    mode_val = df[col].mode()[0]\n",
        "    print(f\"{col}: Mean = {mean_val:.2f}, Median = {median_val:.2f}, Mode = {mode_val}\")"
      ],
      "metadata": {
        "id": "1XFkewnuQ62r",
        "colab": {
          "base_uri": "https://localhost:8080/"
        },
        "outputId": "6acd00be-6b3e-4949-88a6-ea6673c6b860"
      },
      "execution_count": null,
      "outputs": [
        {
          "output_type": "stream",
          "name": "stdout",
          "text": [
            "\n",
            "Mean, Median, Mode for Numerical Columns:\n",
            "Score: Mean = 4.16, Median = 5.00, Mode = 5\n",
            "HelpfulnessNumerator: Mean = 1.61, Median = 0.00, Mode = 0\n",
            "HelpfulnessDenominator: Mean = 2.06, Median = 1.00, Mode = 0\n",
            "Time: Mean = 1294732615.68, Median = 1308873600.00, Mode = 1350345600\n"
          ]
        }
      ]
    },
    {
      "cell_type": "markdown",
      "source": [
        "# **Step 12: Mode for text columns**"
      ],
      "metadata": {
        "id": "drZBAfyaP-pT"
      }
    },
    {
      "cell_type": "code",
      "source": [
        "# Categorical/text columns\n",
        "text_cols = ['ProfileName', 'Summary']\n",
        "print(\"\\nMode for Text Columns:\")\n",
        "for col in text_cols:\n",
        "    mode_val = df[col].mode()[0]\n",
        "    print(f\"{col}: Mode = {mode_val}\")"
      ],
      "metadata": {
        "id": "Y-C6u52EQ-Kb",
        "colab": {
          "base_uri": "https://localhost:8080/"
        },
        "outputId": "c642a5f3-074f-427c-afab-4fbb24e503a7"
      },
      "execution_count": null,
      "outputs": [
        {
          "output_type": "stream",
          "name": "stdout",
          "text": [
            "\n",
            "Mode for Text Columns:\n",
            "ProfileName: Mode = Gary Peterson\n",
            "Summary: Mode = Delicious\n"
          ]
        }
      ]
    },
    {
      "cell_type": "markdown",
      "source": [
        "# **Step 13: Handle missing values - numerical columns**"
      ],
      "metadata": {
        "id": "QcvTCeJ1QAzb"
      }
    },
    {
      "cell_type": "code",
      "source": [
        "# Step 3: Handle Missing Values\n",
        "# 3.1: Binning for numerical columns (if there were missing values)\n",
        "# Note: No missing values in numerical columns, but we'll demonstrate the technique\n",
        "for col in numerical_cols:\n",
        "    if df[col].isnull().sum() > 0:\n",
        "        # Create bins based on quantiles\n",
        "        df[f'{col}_bin'] = pd.qcut(df[col], q=4, duplicates='drop', labels=False)\n",
        "        # Replace missing values with the mean of the respective bin\n",
        "        df[col] = df.groupby(f'{col}_bin')[col].transform(lambda x: x.fillna(x.mean()))\n",
        "        df.drop(columns=[f'{col}_bin'], inplace=True)"
      ],
      "metadata": {
        "id": "Luw0cqdbRAHL"
      },
      "execution_count": null,
      "outputs": []
    },
    {
      "cell_type": "markdown",
      "source": [
        "# **Step 14: Impute missing ProfileName with mode**"
      ],
      "metadata": {
        "id": "rMRXSgd_QCB7"
      }
    },
    {
      "cell_type": "code",
      "source": [
        "# 3.2: Impute missing values in ProfileName and Summary\n",
        "# ProfileName: Replace with mode\n",
        "profile_mode = df['ProfileName'].mode()[0]\n",
        "df['ProfileName'] = df['ProfileName'].fillna(profile_mode)"
      ],
      "metadata": {
        "id": "tZNdz9XyRCL0"
      },
      "execution_count": null,
      "outputs": []
    },
    {
      "cell_type": "markdown",
      "source": [
        "# **Step 15: Print ProfileName mode**"
      ],
      "metadata": {
        "id": "NF6s19ZQQDSr"
      }
    },
    {
      "cell_type": "code",
      "source": [
        "# Calculate and print the mode of ProfileName\n",
        "profile_mode = df['ProfileName'].mode()[0]\n",
        "print(f\"Mode of ProfileName: {profile_mode}\")"
      ],
      "metadata": {
        "id": "F42CjjJLRLCM",
        "colab": {
          "base_uri": "https://localhost:8080/"
        },
        "outputId": "5ef5d27c-5362-490e-e5b3-68e229bde691"
      },
      "execution_count": null,
      "outputs": [
        {
          "output_type": "stream",
          "name": "stdout",
          "text": [
            "Mode of ProfileName: Gary Peterson\n"
          ]
        }
      ]
    },
    {
      "cell_type": "markdown",
      "source": [
        "# **Step 16: ProfileName frequency count**"
      ],
      "metadata": {
        "id": "kvLTWHgQQE8z"
      }
    },
    {
      "cell_type": "code",
      "source": [
        "# Count the frequency of each unique value in the ProfileName column\n",
        "profile_counts = df['ProfileName'].value_counts()\n",
        "\n",
        "# Display the results\n",
        "print(\"Frequency of each ProfileName:\")\n",
        "print(profile_counts)"
      ],
      "metadata": {
        "id": "QY5r_L7-ROCj",
        "colab": {
          "base_uri": "https://localhost:8080/"
        },
        "outputId": "74dfcb11-b2d2-4749-b33e-223b7b64e4d5"
      },
      "execution_count": null,
      "outputs": [
        {
          "output_type": "stream",
          "name": "stdout",
          "text": [
            "Frequency of each ProfileName:\n",
            "ProfileName\n",
            "Gary Peterson                             12\n",
            "Rebecca of Amazon \"The Rebecca Review\"     9\n",
            "Jessica                                    8\n",
            "Laura                                      8\n",
            "Lynrie \"Oh HELL no\"                        8\n",
            "                                          ..\n",
            "Barbara C                                  1\n",
            "Richard J. Mitchell                        1\n",
            "Blu-estLight \"MyEnglishIsGood\"             1\n",
            "ocannie2002                                1\n",
            "art chick                                  1\n",
            "Name: count, Length: 8953, dtype: int64\n"
          ]
        }
      ]
    },
    {
      "cell_type": "markdown",
      "source": [
        "# **Step 17: Impute missing Summary with mode**"
      ],
      "metadata": {
        "id": "fReAlQS6QGlc"
      }
    },
    {
      "cell_type": "code",
      "source": [
        "# Summary: Replace with mode (or empty string if preferred)\n",
        "summary_mode = df['Summary'].mode()[0]\n",
        "df['Summary'] = df['Summary'].fillna(summary_mode)"
      ],
      "metadata": {
        "id": "7p3iBq7dRP0j"
      },
      "execution_count": null,
      "outputs": []
    },
    {
      "cell_type": "markdown",
      "source": [
        "# **Step 18: Print Summary mode**"
      ],
      "metadata": {
        "id": "CJYjl27mQHqb"
      }
    },
    {
      "cell_type": "code",
      "source": [
        "summary_mode = df['Summary'].mode()[0]\n",
        "print(f\"Mode of Summary: {summary_mode}\")"
      ],
      "metadata": {
        "id": "nXHubImtRRTL",
        "colab": {
          "base_uri": "https://localhost:8080/"
        },
        "outputId": "8a038d87-734f-41ca-fe79-9b0deaa69465"
      },
      "execution_count": null,
      "outputs": [
        {
          "output_type": "stream",
          "name": "stdout",
          "text": [
            "Mode of Summary: Delicious\n"
          ]
        }
      ]
    },
    {
      "cell_type": "markdown",
      "source": [
        "# **Step 19: Summary frequency count**"
      ],
      "metadata": {
        "id": "_dMoHyx-QJRk"
      }
    },
    {
      "cell_type": "code",
      "source": [
        "# Count the frequency of each unique value in the ProfileName column\n",
        "Summary_counts = df['Summary'].value_counts()\n",
        "\n",
        "# Display the results\n",
        "print(\"Frequency of each Summary:\")\n",
        "print(Summary_counts)"
      ],
      "metadata": {
        "id": "IgLEQ7lmRYCE",
        "colab": {
          "base_uri": "https://localhost:8080/"
        },
        "outputId": "76180a25-6217-472f-a449-fe8b7546e3b9"
      },
      "execution_count": null,
      "outputs": [
        {
          "output_type": "stream",
          "name": "stdout",
          "text": [
            "Frequency of each Summary:\n",
            "Summary\n",
            "Delicious                                                        42\n",
            "Delicious!                                                       40\n",
            "Yummy!                                                           29\n",
            "Great product                                                    22\n",
            "Great Product                                                    20\n",
            "                                                                 ..\n",
            "great catnip                                                      1\n",
            "Fromm Four-Star Surf & Turf vs Blue Buffalo Wilderness Salmon     1\n",
            "Best Chai ever!!                                                  1\n",
            "a bit disappointed...                                             1\n",
            "Exactly as advertised, But I just couldn't do it.                 1\n",
            "Name: count, Length: 8959, dtype: int64\n"
          ]
        }
      ]
    },
    {
      "cell_type": "markdown",
      "source": [
        "# **Step 20: Verify no missing values**"
      ],
      "metadata": {
        "id": "pE0Ra4w7RcbD"
      }
    },
    {
      "cell_type": "code",
      "source": [
        "# Verify missing values after imputation\n",
        "print(\"\\nMissing Values After Imputation:\")\n",
        "print(df.isnull().sum())"
      ],
      "metadata": {
        "id": "4pf-VyOTRgJr",
        "colab": {
          "base_uri": "https://localhost:8080/"
        },
        "outputId": "12c762cc-dba0-4f9f-dab8-70ee995acab5"
      },
      "execution_count": null,
      "outputs": [
        {
          "output_type": "stream",
          "name": "stdout",
          "text": [
            "\n",
            "Missing Values After Imputation:\n",
            "Id                        0\n",
            "ProductId                 0\n",
            "UserId                    0\n",
            "ProfileName               0\n",
            "HelpfulnessNumerator      0\n",
            "HelpfulnessDenominator    0\n",
            "Score                     0\n",
            "Time                      0\n",
            "Summary                   0\n",
            "Text                      0\n",
            "dtype: int64\n"
          ]
        }
      ]
    },
    {
      "cell_type": "markdown",
      "source": [
        "# **Step 21: Install required libraries**"
      ],
      "metadata": {
        "id": "M-jOfDrORg-s"
      }
    },
    {
      "cell_type": "code",
      "source": [
        "# Install required libraries\n",
        "!pip install pandas numpy matplotlib seaborn\n",
        "\n",
        "import pandas as pd\n",
        "import numpy as np\n",
        "import matplotlib.pyplot as plt\n",
        "import seaborn as sns\n"
      ],
      "metadata": {
        "id": "f0_gh8PLRouj",
        "colab": {
          "base_uri": "https://localhost:8080/"
        },
        "outputId": "61036bee-9b51-43f9-f6c4-f59c4c20f146"
      },
      "execution_count": null,
      "outputs": [
        {
          "output_type": "stream",
          "name": "stdout",
          "text": [
            "Requirement already satisfied: pandas in /usr/local/lib/python3.11/dist-packages (2.2.2)\n",
            "Requirement already satisfied: numpy in /usr/local/lib/python3.11/dist-packages (2.0.2)\n",
            "Requirement already satisfied: matplotlib in /usr/local/lib/python3.11/dist-packages (3.10.0)\n",
            "Requirement already satisfied: seaborn in /usr/local/lib/python3.11/dist-packages (0.13.2)\n",
            "Requirement already satisfied: python-dateutil>=2.8.2 in /usr/local/lib/python3.11/dist-packages (from pandas) (2.9.0.post0)\n",
            "Requirement already satisfied: pytz>=2020.1 in /usr/local/lib/python3.11/dist-packages (from pandas) (2025.2)\n",
            "Requirement already satisfied: tzdata>=2022.7 in /usr/local/lib/python3.11/dist-packages (from pandas) (2025.2)\n",
            "Requirement already satisfied: contourpy>=1.0.1 in /usr/local/lib/python3.11/dist-packages (from matplotlib) (1.3.2)\n",
            "Requirement already satisfied: cycler>=0.10 in /usr/local/lib/python3.11/dist-packages (from matplotlib) (0.12.1)\n",
            "Requirement already satisfied: fonttools>=4.22.0 in /usr/local/lib/python3.11/dist-packages (from matplotlib) (4.58.0)\n",
            "Requirement already satisfied: kiwisolver>=1.3.1 in /usr/local/lib/python3.11/dist-packages (from matplotlib) (1.4.8)\n",
            "Requirement already satisfied: packaging>=20.0 in /usr/local/lib/python3.11/dist-packages (from matplotlib) (24.2)\n",
            "Requirement already satisfied: pillow>=8 in /usr/local/lib/python3.11/dist-packages (from matplotlib) (11.2.1)\n",
            "Requirement already satisfied: pyparsing>=2.3.1 in /usr/local/lib/python3.11/dist-packages (from matplotlib) (3.2.3)\n",
            "Requirement already satisfied: six>=1.5 in /usr/local/lib/python3.11/dist-packages (from python-dateutil>=2.8.2->pandas) (1.17.0)\n"
          ]
        }
      ]
    },
    {
      "cell_type": "markdown",
      "source": [
        "# **Step 22: Load and analyze dataset**"
      ],
      "metadata": {
        "id": "tGMAYvlERhkz"
      }
    },
    {
      "cell_type": "code",
      "source": [
        "import csv\n",
        "\n",
        "# Step 1: Load and sample the dataset\n",
        "# Load dataset from /content/ with robust parsing\n",
        "dataset_path = '/content/Reviews.csv'\n",
        "df = pd.read_csv(\n",
        "    dataset_path,\n",
        "    quoting=csv.QUOTE_ALL,\n",
        "    engine='python',\n",
        "    on_bad_lines='skip',\n",
        "    encoding='utf-8'\n",
        ")\n",
        "print(\"Dataset loaded successfully. Shape:\", df.shape)\n",
        "print(df.head())\n",
        "df = df.sample(n=10000, random_state=42)\n",
        "\n",
        "# Step 2: Define numerical columns\n",
        "numerical_cols = ['Score', 'HelpfulnessNumerator', 'HelpfulnessDenominator', 'Time']\n",
        "\n",
        "# Step 3: Summary statistics to understand distribution\n",
        "print(\"Summary Statistics:\")\n",
        "print(df[numerical_cols].describe())\n",
        "\n",
        "# Step 4: Visualize distributions with histograms\n",
        "plt.figure(figsize=(12, 8))\n",
        "for i, col in enumerate(numerical_cols, 1):\n",
        "    plt.subplot(2, 2, i)\n",
        "    sns.histplot(df[col], bins=20, kde=True)\n",
        "    plt.title(f'Distribution of {col}')\n",
        "plt.tight_layout()\n",
        "plt.show()\n",
        "\n",
        "# Step 5: Identify outliers with adjusted IQR (multiplier = 3)\n",
        "outliers_dict = {}\n",
        "for col in numerical_cols:\n",
        "    Q1 = df[col].quantile(0.25)\n",
        "    Q3 = df[col].quantile(0.75)\n",
        "    IQR = Q3 - Q1\n",
        "    lower_bound = Q1 - 3 * IQR  # Increased multiplier to 3\n",
        "    upper_bound = Q3 + 3 * IQR  # Increased multiplier to 3\n",
        "\n",
        "    # Identify outliers\n",
        "    outliers = df[(df[col] < lower_bound) | (df[col] > upper_bound)][col]\n",
        "    outliers_dict[col] = outliers.tolist()\n",
        "\n",
        "    # Print column name and outlier values\n",
        "    print(f\"\\nOutliers in {col} (IQR multiplier = 3):\")\n",
        "    if len(outliers) > 0:\n",
        "        print(f\"Number of outliers: {len(outliers)}\")\n",
        "        print(f\"Outlier values: {outliers.tolist()}\")\n",
        "    else:\n",
        "        print(\"No outliers found.\")\n",
        "\n",
        "# Step 6: Visualize outliers with boxplots\n",
        "plt.figure(figsize=(12, 8))\n",
        "for i, col in enumerate(numerical_cols, 1):\n",
        "    plt.subplot(2, 2, i)\n",
        "    sns.boxplot(x=df[col])\n",
        "    plt.title(f'Boxplot of {col}')\n",
        "plt.tight_layout()\n",
        "plt.show()"
      ],
      "metadata": {
        "id": "DFxzIXYsRqkz"
      },
      "execution_count": null,
      "outputs": []
    },
    {
      "cell_type": "markdown",
      "source": [
        "# **Step 23: Visualize distributions after outlier replacement**"
      ],
      "metadata": {
        "id": "a0hs50lhRiWz"
      }
    },
    {
      "cell_type": "code",
      "source": [
        "# 4.3: Visualize after outlier replacement\n",
        "plt.figure(figsize=(12, 8))\n",
        "for i, col in enumerate(numerical_cols, 1):\n",
        "    plt.subplot(2, 2, i)\n",
        "    sns.boxplot(x=df[col])\n",
        "    plt.title(f'Boxplot of {col} After Outlier Replacement')\n",
        "plt.tight_layout()\n",
        "plt.show()"
      ],
      "metadata": {
        "id": "fs6XAWQCRs6c"
      },
      "execution_count": null,
      "outputs": []
    },
    {
      "cell_type": "markdown",
      "source": [
        "# **Step 24: Additional data cleaning**"
      ],
      "metadata": {
        "id": "_eEBpDuVRjAc"
      }
    },
    {
      "cell_type": "code",
      "source": [
        "# Step 5: Other Necessary Data Cleaning\n",
        "# 5.1: Remove duplicates\n",
        "df = df.drop_duplicates()\n",
        "print(f\"\\nNumber of rows after removing duplicates: {len(df)}\")\n",
        "\n",
        "# 5.2: Standardize text columns\n",
        "df['ProfileName'] = df['ProfileName'].str.lower().str.strip()\n",
        "df['Summary'] = df['Summary'].str.lower().str.strip()\n",
        "df['Text'] = df['Text'].str.lower().str.strip()\n",
        "\n",
        "# 5.3: Ensure correct data types\n",
        "df['Id'] = df['Id'].astype(int)\n",
        "df['HelpfulnessNumerator'] = df['HelpfulnessNumerator'].astype(int)\n",
        "df['HelpfulnessDenominator'] = df['HelpfulnessDenominator'].astype(int)\n",
        "df['Score'] = df['Score'].astype(int)\n",
        "df['Time'] = df['Time'].astype(int)"
      ],
      "metadata": {
        "id": "dAaEAMfTRu1T"
      },
      "execution_count": null,
      "outputs": []
    },
    {
      "cell_type": "markdown",
      "source": [
        "# **Step 25: Show cleaned dataset**"
      ],
      "metadata": {
        "id": "0igxY2T-RjnL"
      }
    },
    {
      "cell_type": "code",
      "source": [
        "# Step 6: Show the Cleaned Dataset\n",
        "print(\"\\nCleaned Dataset Info:\")\n",
        "print(df.info())\n",
        "print(\"\\nFirst 5 rows of Cleaned Dataset:\")\n",
        "print(df.head())"
      ],
      "metadata": {
        "id": "2OznmfjjRwVj"
      },
      "execution_count": null,
      "outputs": []
    },
    {
      "cell_type": "markdown",
      "source": [
        "# **Step 26: Verify no missing values**"
      ],
      "metadata": {
        "id": "EgsB-z2VRkMb"
      }
    },
    {
      "cell_type": "code",
      "source": [
        "# Verify missing values after imputation\n",
        "print(\"\\nMissing Values After Imputation:\")\n",
        "print(df.isnull().sum())"
      ],
      "metadata": {
        "id": "G5KhTJydRx3T"
      },
      "execution_count": null,
      "outputs": []
    },
    {
      "cell_type": "markdown",
      "source": [
        "# **Step 27: Handle empty strings in Summary**"
      ],
      "metadata": {
        "id": "KtdxUiSFRk5z"
      }
    },
    {
      "cell_type": "code",
      "source": [
        "# Step 4: Check for empty strings or whitespace in Summary and convert to NaN\n",
        "df['Summary'] = df['Summary'].replace(r'^\\s*$', np.nan, regex=True)  # Replace empty or whitespace-only strings with NaN\n",
        "print(\"\\nMissing Values After Converting Empty Strings to NaN:\")\n",
        "print(df.isnull().sum())\n",
        "\n",
        "# Step 5: Impute Summary with mode\n",
        "summary_mode = df['Summary'].mode()[0]\n",
        "df['Summary'] = df['Summary'].fillna(summary_mode)\n",
        "\n",
        "# Step 6: Verify missing values after imputation\n",
        "print(\"\\nMissing Values After Imputation:\")\n",
        "print(df.isnull().sum())\n",
        "\n",
        "# Step 7: Additional check for empty strings (just to be sure)\n",
        "empty_summary_count = len(df[df['Summary'].str.strip() == ''])\n",
        "print(f\"\\nNumber of empty string values in Summary after imputation: {empty_summary_count}\")"
      ],
      "metadata": {
        "id": "vPISesG1Rzxr"
      },
      "execution_count": null,
      "outputs": []
    },
    {
      "cell_type": "markdown",
      "source": [
        "# **Step 28: Save cleaned dataset**"
      ],
      "metadata": {
        "id": "P0TTJiPWR0Jd"
      }
    },
    {
      "cell_type": "code",
      "source": [
        "# Optional: Save the cleaned dataset\n",
        "df.to_csv('/content/Reviews_cleaned.csv', index=False)\n",
        "print(\"\\nCleaned dataset saved as 'Reviews_cleaned.csv'\")"
      ],
      "metadata": {
        "id": "Gt15viVaR1H8"
      },
      "execution_count": null,
      "outputs": []
    },
    {
      "cell_type": "markdown",
      "source": [
        "# **Step 29: Final null check**"
      ],
      "metadata": {
        "id": "8zaaea5DR1ls"
      }
    },
    {
      "cell_type": "code",
      "source": [
        "df.isnull().sum()"
      ],
      "metadata": {
        "id": "tzTlSqRNR2cb"
      },
      "execution_count": null,
      "outputs": []
    },
    {
      "cell_type": "markdown",
      "source": [
        "# **Step 30: Initialize NLP tools**"
      ],
      "metadata": {
        "id": "fXr_Z4ijR2yM"
      }
    },
    {
      "cell_type": "code",
      "source": [
        "import pandas as pd\n",
        "import matplotlib.pyplot as plt\n",
        "import seaborn as sns\n",
        "from wordcloud import WordCloud\n",
        "import warnings\n",
        "warnings.filterwarnings('ignore')"
      ],
      "metadata": {
        "id": "bWTkcvTYR-pU"
      },
      "execution_count": null,
      "outputs": []
    },
    {
      "cell_type": "markdown",
      "source": [
        "# **Step 31: Load cleaned data and prepare for analysis**"
      ],
      "metadata": {
        "id": "5Mmx_cF1R_AD"
      }
    },
    {
      "cell_type": "code",
      "source": [
        "import pandas as pd\n",
        "import numpy as np\n",
        "import matplotlib.pyplot as plt\n",
        "from wordcloud import WordCloud\n",
        "import seaborn as sns\n",
        "from sklearn.feature_extraction.text import TfidfVectorizer\n",
        "from sklearn.model_selection import train_test_split\n",
        "from sklearn.linear_model import LogisticRegression\n",
        "from sklearn.ensemble import RandomForestClassifier\n",
        "from sklearn.metrics import accuracy_score, f1_score, confusion_matrix\n",
        "from nltk.sentiment.vader import SentimentIntensityAnalyzer\n",
        "import nltk\n",
        "\n",
        "# Download NLTK data\n",
        "nltk.download('vader_lexicon')\n",
        "\n",
        "# Load the cleaned dataset\n",
        "df = pd.read_csv('/content/Reviews_cleaned.csv')\n",
        "print(\"Dataset Loaded Successfully:\")\n",
        "print(df.head())"
      ],
      "metadata": {
        "id": "uztw2i4pSAAz"
      },
      "execution_count": null,
      "outputs": []
    },
    {
      "cell_type": "markdown",
      "source": [
        "# **Step 32: Text cleaning function**"
      ],
      "metadata": {
        "id": "fylxdZ_-SAcE"
      }
    },
    {
      "cell_type": "code",
      "source": [
        "import re\n",
        "from nltk.corpus import stopwords\n",
        "nltk.download('stopwords')\n",
        "\n",
        "# Function to clean text\n",
        "def clean_text(text):\n",
        "    text = re.sub(r'[^\\w\\s]', '', text)  # Remove punctuation\n",
        "    stop_words = set(stopwords.words('english'))\n",
        "    text = ' '.join(word for word in text.split() if word.lower() not in stop_words)\n",
        "    return text\n",
        "\n",
        "# Apply cleaning to Text column and create Text_Cleaned\n",
        "df['Text_Cleaned'] = df['Text'].apply(clean_text)\n",
        "print(\"\\nSample of Text_Cleaned:\")\n",
        "print(df['Text_Cleaned'].head())"
      ],
      "metadata": {
        "id": "QzvcgcXVSzQ7"
      },
      "execution_count": null,
      "outputs": []
    },
    {
      "cell_type": "markdown",
      "source": [
        "# **Step 33: Word cloud visualization**"
      ],
      "metadata": {
        "id": "UJnZ1bMpSBpj"
      }
    },
    {
      "cell_type": "code",
      "source": [
        "\n",
        "text = ' '.join(df['Text_Cleaned'].dropna())\n",
        "wordcloud = WordCloud(width=800, height=400, background_color='white', max_words=100).generate(text)\n",
        "plt.figure(figsize=(10, 5))\n",
        "plt.imshow(wordcloud, interpolation='bilinear')\n",
        "plt.axis('off')\n",
        "plt.title('Word Cloud of Review Text')\n",
        "plt.show()"
      ],
      "metadata": {
        "id": "6URNxyj4SDLc"
      },
      "execution_count": null,
      "outputs": []
    },
    {
      "cell_type": "markdown",
      "source": [
        "# **Step 34: Time-series analysis**"
      ],
      "metadata": {
        "id": "pMmWfDJLSDcb"
      }
    },
    {
      "cell_type": "code",
      "source": [
        "# Convert Time to Year\n",
        "df['Year'] = pd.to_datetime(df['Time'], unit='s').dt.year\n",
        "\n",
        "reviews_by_year = df.groupby('Year').size()\n",
        "plt.figure(figsize=(10, 6))\n",
        "reviews_by_year.plot(kind='line', marker='o')\n",
        "plt.title('Number of Reviews Over Time')\n",
        "plt.xlabel('Year')\n",
        "plt.ylabel('Number of Reviews')\n",
        "plt.grid(True)\n",
        "plt.show()"
      ],
      "metadata": {
        "id": "hZ5w7bsbSEub"
      },
      "execution_count": null,
      "outputs": []
    },
    {
      "cell_type": "markdown",
      "source": [
        "# **Step 35: Sentiment analysis with VADER**"
      ],
      "metadata": {
        "id": "rnS5K6NbSFBz"
      }
    },
    {
      "cell_type": "code",
      "source": [
        "# Initialize VADER\n",
        "sid = SentimentIntensityAnalyzer()\n",
        "\n",
        "# Function to get sentiment\n",
        "def get_sentiment(text):\n",
        "    score = sid.polarity_scores(text)['compound']\n",
        "    return 'positive' if score >= 0.05 else 'negative' if score <= -0.05 else 'neutral'\n",
        "\n",
        "# Apply sentiment analysis\n",
        "df['Sentiment'] = df['Text_Cleaned'].apply(get_sentiment)\n",
        "print(\"\\nSentiment Distribution:\")\n",
        "print(df['Sentiment'].value_counts())\n",
        "\n",
        "# Visualize sentiment distribution\n",
        "sns.countplot(x='Sentiment', data=df)\n",
        "plt.title('Sentiment Distribution of Reviews')\n",
        "plt.show()"
      ],
      "metadata": {
        "id": "I8ZR0WnLSQtr"
      },
      "execution_count": null,
      "outputs": []
    },
    {
      "cell_type": "markdown",
      "source": [
        "# **Step 36: Statistical summary**"
      ],
      "metadata": {
        "id": "ZeWvlpTFSGSj"
      }
    },
    {
      "cell_type": "code",
      "source": [
        "\n",
        "print(\"\\nStatistical Summary of Numerical Columns:\")\n",
        "print(df[['HelpfulnessNumerator', 'HelpfulnessDenominator', 'Score', 'Time']].describe())"
      ],
      "metadata": {
        "id": "lRjqbBmhSQWj"
      },
      "execution_count": null,
      "outputs": []
    },
    {
      "cell_type": "markdown",
      "source": [
        "# **Step 37: TF-IDF and model training**"
      ],
      "metadata": {
        "id": "QRoUEJrNSHnk"
      }
    },
    {
      "cell_type": "code",
      "source": [
        "# TF-IDF Vectorization\n",
        "tfidf = TfidfVectorizer(max_features=5000)\n",
        "X = tfidf.fit_transform(df['Text_Cleaned'])\n",
        "y = df['Sentiment'].map({'positive': 1, 'negative': 0, 'neutral': 2})  # Encode sentiment\n",
        "\n",
        "# Split the data\n",
        "X_train, X_test, y_train, y_test = train_test_split(X, y, test_size=0.2, random_state=42)\n",
        "\n",
        "# Train a Random Forest Classifier\n",
        "rf_model = RandomForestClassifier(n_estimators=100, random_state=42)\n",
        "rf_model.fit(X_train, y_train)\n",
        "\n",
        "# Predict and evaluate\n",
        "y_pred = rf_model.predict(X_test)\n",
        "accuracy = accuracy_score(y_test, y_pred)\n",
        "f1 = f1_score(y_test, y_pred, average='weighted')\n",
        "\n",
        "print(f\"\\nModel Accuracy: {accuracy:.2f}\")\n",
        "print(f\"Model F1 Score: {f1:.2f}\")\n",
        "\n",
        "# Confusion Matrix\n",
        "cm = confusion_matrix(y_test, y_pred)\n",
        "sns.heatmap(cm, annot=True, fmt='d', cmap='Blues')\n",
        "plt.title('Confusion Matrix')\n",
        "plt.xlabel('Predicted')\n",
        "plt.ylabel('Actual')\n",
        "plt.show()"
      ],
      "metadata": {
        "id": "mMUQJ9AoSPjr"
      },
      "execution_count": null,
      "outputs": []
    },
    {
      "cell_type": "markdown",
      "source": [
        "# **Step 38: Save Model and Vectorizer**"
      ],
      "metadata": {
        "id": "vrZvXOzqSI8T"
      }
    },
    {
      "cell_type": "code",
      "source": [
        "import joblib\n",
        "\n",
        "joblib.dump(rf_model, 'rf_sentiment_model.pkl')\n",
        "joblib.dump(tfidf, 'tfidf_vectorizer.pkl')\n",
        "print(\"\\nModel and Vectorizer saved successfully.\")"
      ],
      "metadata": {
        "id": "cl-tuVBLSPKc"
      },
      "execution_count": null,
      "outputs": []
    },
    {
      "cell_type": "markdown",
      "source": [
        "# **Step 39: Full Pipeline Recap & Initial Evaluation**"
      ],
      "metadata": {
        "id": "SgsbRyA1SJ9r"
      }
    },
    {
      "cell_type": "code",
      "source": [
        "import pandas as pd\n",
        "import numpy as np\n",
        "import matplotlib.pyplot as plt\n",
        "from wordcloud import WordCloud\n",
        "import seaborn as sns\n",
        "from sklearn.feature_extraction.text import TfidfVectorizer\n",
        "from sklearn.model_selection import train_test_split, cross_val_score\n",
        "from sklearn.ensemble import RandomForestClassifier\n",
        "from sklearn.metrics import accuracy_score, f1_score, confusion_matrix, classification_report, roc_auc_score, roc_curve\n",
        "from sklearn.preprocessing import label_binarize\n",
        "from nltk.sentiment.vader import SentimentIntensityAnalyzer\n",
        "from nltk.corpus import stopwords\n",
        "import nltk\n",
        "import re\n",
        "import joblib\n",
        "\n",
        "# Download NLTK data\n",
        "nltk.download('vader_lexicon')\n",
        "nltk.download('stopwords')\n",
        "\n",
        "# Load the cleaned dataset\n",
        "df = pd.read_csv('/content/Reviews_cleaned.csv')\n",
        "print(\"Dataset Loaded Successfully:\")\n",
        "print(df.head())\n",
        "\n",
        "\n",
        "def clean_text(text):\n",
        "    text = re.sub(r'[^\\w\\s]', '', text)  # Remove punctuation\n",
        "    stop_words = set(stopwords.words('english'))\n",
        "    text = ' '.join(word for word in text.split() if word.lower() not in stop_words)\n",
        "    return text\n",
        "\n",
        "df['Text_Cleaned'] = df['Text'].apply(clean_text)\n",
        "print(\"\\nSample of Text_Cleaned:\")\n",
        "print(df['Text_Cleaned'].head())\n",
        "\n",
        "sid = SentimentIntensityAnalyzer()\n",
        "\n",
        "def get_sentiment(text):\n",
        "    score = sid.polarity_scores(text)['compound']\n",
        "    return 'positive' if score >= 0.05 else 'negative' if score <= -0.05 else 'neutral'\n",
        "\n",
        "df['Sentiment'] = df['Text_Cleaned'].apply(get_sentiment)\n",
        "print(\"\\nSentiment Distribution:\")\n",
        "print(df['Sentiment'].value_counts())\n",
        "\n",
        "# Visualize sentiment distribution\n",
        "sns.countplot(x='Sentiment', data=df)\n",
        "plt.title('Sentiment Distribution of Reviews')\n",
        "plt.show()\n",
        "\n",
        "tfidf = TfidfVectorizer(max_features=5000)\n",
        "X = tfidf.fit_transform(df['Text_Cleaned'])\n",
        "y = df['Sentiment'].map({'positive': 1, 'negative': 0, 'neutral': 2})\n",
        "\n",
        "X_train, X_test, y_train, y_test = train_test_split(X, y, test_size=0.2, random_state=42)\n",
        "\n",
        "# Train the Random Forest Classifier\n",
        "rf_model = RandomForestClassifier(n_estimators=100, random_state=42)\n",
        "rf_model.fit(X_train, y_train)\n",
        "\n",
        "# Predictions\n",
        "y_pred = rf_model.predict(X_test)\n",
        "\n",
        "\n",
        "print(\"\\nClassification Report:\")\n",
        "print(classification_report(y_test, y_pred, target_names=['negative', 'positive', 'neutral']))\n",
        "\n",
        "\n",
        "cm = confusion_matrix(y_test, y_pred)\n",
        "plt.figure(figsize=(8, 6))\n",
        "sns.heatmap(cm, annot=True, fmt='d', cmap='Blues', xticklabels=['negative', 'positive', 'neutral'], yticklabels=['negative', 'positive', 'neutral'])\n",
        "plt.title('Confusion Matrix')\n",
        "plt.xlabel('Predicted')\n",
        "plt.ylabel('Actual')\n",
        "plt.show()\n",
        "\n",
        "\n",
        "cv_scores = cross_val_score(rf_model, X, y, cv=5, scoring='accuracy')\n",
        "print(\"\\nCross-Validation Accuracy Scores:\", cv_scores)\n",
        "print(f\"Mean CV Accuracy: {cv_scores.mean():.2f}\")\n",
        "print(f\"Standard Deviation: {cv_scores.std():.2f}\")\n",
        "\n",
        "\n",
        "y_test_bin = label_binarize(y_test, classes=[0, 1, 2])\n",
        "y_pred_prob = rf_model.predict_proba(X_test)\n",
        "\n",
        "roc_auc = {}\n",
        "for i, label in enumerate(['negative', 'positive', 'neutral']):\n",
        "    roc_auc[label] = roc_auc_score(y_test_bin[:, i], y_pred_prob[:, i])\n",
        "    fpr, tpr, _ = roc_curve(y_test_bin[:, i], y_pred_prob[:, i])\n",
        "    plt.plot(fpr, tpr, label=f'ROC {label} (AUC = {roc_auc[label]:.2f})')\n",
        "\n",
        "plt.plot([0, 1], [0, 1], 'k--')\n",
        "plt.title('ROC Curve (One-vs-Rest)')\n",
        "plt.xlabel('False Positive Rate')\n",
        "plt.ylabel('True Positive Rate')\n",
        "plt.legend()\n",
        "plt.show()\n",
        "\n",
        "print(\"\\nROC-AUC Scores:\")\n",
        "for label, score in roc_auc.items():\n",
        "    print(f\"{label}: {score:.2f}\")\n",
        "\n",
        "feature_names = tfidf.get_feature_names_out()\n",
        "importances = rf_model.feature_importances_\n",
        "top_n = 20\n",
        "indices = np.argsort(importances)[::-1][:top_n]\n",
        "\n",
        "plt.figure(figsize=(10, 6))\n",
        "plt.barh(range(top_n), importances[indices], align='center')\n",
        "plt.yticks(range(top_n), [feature_names[i] for i in indices])\n",
        "plt.xlabel('Feature Importance')\n",
        "plt.title('Top 20 Important Features (Words)')\n",
        "plt.gca().invert_yaxis()\n",
        "plt.show()\n",
        "\n",
        "error_df = pd.DataFrame({'Text': df.loc[y_test.index, 'Text'], 'Actual': y_test, 'Predicted': y_pred})\n",
        "error_df['Actual'] = error_df['Actual'].map({0: 'negative', 1: 'positive', 2: 'neutral'})\n",
        "error_df['Predicted'] = error_df['Predicted'].map({0: 'negative', 1: 'positive', 2: 'neutral'})\n",
        "\n",
        "misclassified = error_df[error_df['Actual'] != error_df['Predicted']]\n",
        "print(\"\\nSample of Misclassified Reviews (First 5):\")\n",
        "print(misclassified.head())\n",
        "\n",
        "misclassified.to_csv('/content/misclassified_reviews.csv', index=False)\n",
        "print(\"\\nMisclassified reviews saved as 'misclassified_reviews.csv'\")"
      ],
      "metadata": {
        "id": "EinorA7PSOkT"
      },
      "execution_count": null,
      "outputs": []
    },
    {
      "cell_type": "markdown",
      "source": [
        "# **Step 40: Extended Library Imports for Model Comparison**"
      ],
      "metadata": {
        "id": "_cwLAZ_6SLvj"
      }
    },
    {
      "cell_type": "code",
      "source": [
        "import pandas as pd\n",
        "import numpy as np\n",
        "import matplotlib.pyplot as plt\n",
        "from wordcloud import WordCloud\n",
        "import seaborn as sns\n",
        "from sklearn.feature_extraction.text import TfidfVectorizer\n",
        "from sklearn.model_selection import train_test_split, cross_val_score\n",
        "from sklearn.metrics import accuracy_score, f1_score, classification_report, confusion_matrix\n",
        "from sklearn.preprocessing import label_binarize\n",
        "from sklearn.metrics import roc_auc_score, roc_curve\n",
        "from nltk.sentiment.vader import SentimentIntensityAnalyzer\n",
        "from nltk.corpus import stopwords\n",
        "import nltk\n",
        "import re\n",
        "import joblib\n",
        "from sklearn.cluster import KMeans, DBSCAN\n",
        "from sklearn.neighbors import KNeighborsClassifier\n",
        "from sklearn.svm import SVC\n",
        "from sklearn.tree import DecisionTreeClassifier\n",
        "from sklearn.ensemble import RandomForestClassifier, GradientBoostingClassifier"
      ],
      "metadata": {
        "id": "-MbDQaUpSN0r"
      },
      "execution_count": null,
      "outputs": []
    },
    {
      "cell_type": "markdown",
      "source": [
        "# **Step 41: Reload Dataset for Model Comparison Phase**"
      ],
      "metadata": {
        "id": "pguqHaQYULBc"
      }
    },
    {
      "cell_type": "code",
      "source": [
        "# Load the cleaned dataset\n",
        "df = pd.read_csv('/content/Reviews_cleaned.csv')"
      ],
      "metadata": {
        "id": "iwAu4c8-TIFW"
      },
      "execution_count": null,
      "outputs": []
    },
    {
      "cell_type": "markdown",
      "source": [
        "# **Step 42: Text Cleaning (Re-applied for Safety or Pipeline Reuse)**"
      ],
      "metadata": {
        "id": "5ZPBZw44UNL7"
      }
    },
    {
      "cell_type": "code",
      "source": [
        "# Clean text\n",
        "def clean_text(text):\n",
        "    text = re.sub(r'[^\\w\\s]', '', text)\n",
        "    stop_words = set(stopwords.words('english'))\n",
        "    text = ' '.join(word for word in text.split() if word.lower() not in stop_words)\n",
        "    return text\n",
        "\n",
        "df['Text_Cleaned'] = df['Text'].apply(clean_text)"
      ],
      "metadata": {
        "id": "uF92neY-TJc6"
      },
      "execution_count": null,
      "outputs": []
    },
    {
      "cell_type": "markdown",
      "source": [
        "# **Step 43: Sentiment Analysis + TF-IDF + Train-Test Split (Reused Setup)**"
      ],
      "metadata": {
        "id": "4pH-wCUAUO0j"
      }
    },
    {
      "cell_type": "code",
      "source": [
        "# Sentiment Analysis\n",
        "sid = SentimentIntensityAnalyzer()\n",
        "def get_sentiment(text):\n",
        "    score = sid.polarity_scores(text)['compound']\n",
        "    return 'positive' if score >= 0.05 else 'negative' if score <= -0.05 else 'neutral'\n",
        "df['Sentiment'] = df['Text_Cleaned'].apply(get_sentiment)\n",
        "\n",
        "# TF-IDF Vectorization\n",
        "tfidf = TfidfVectorizer(max_features=5000)\n",
        "X = tfidf.fit_transform(df['Text_Cleaned'])\n",
        "y = df['Sentiment'].map({'positive': 1, 'negative': 0, 'neutral': 2})\n",
        "\n",
        "# Split the data\n",
        "X_train, X_test, y_train, y_test = train_test_split(X, y, test_size=0.2, random_state=42)"
      ],
      "metadata": {
        "id": "b4mKNMqTTKvb"
      },
      "execution_count": null,
      "outputs": []
    },
    {
      "cell_type": "markdown",
      "source": [
        "# **Step 44: Train & Evaluate Multiple Models**"
      ],
      "metadata": {
        "id": "1MLu_EZiUQ07"
      }
    },
    {
      "cell_type": "code",
      "source": [
        "# Initialize models\n",
        "models = {\n",
        "    'KNN': KNeighborsClassifier(n_neighbors=5),\n",
        "    'SVM': SVC(kernel='linear', probability=True, random_state=42),\n",
        "    'Decision Tree': DecisionTreeClassifier(random_state=42),\n",
        "    'Random Forest': RandomForestClassifier(n_estimators=100, random_state=42),\n",
        "    'Gradient Boosting': GradientBoostingClassifier(random_state=42)\n",
        "}\n",
        "\n",
        "# Evaluate each model\n",
        "results = {}\n",
        "for name, model in models.items():\n",
        "    # Train\n",
        "    model.fit(X_train, y_train)\n",
        "    # Predict\n",
        "    y_pred = model.predict(X_test)\n",
        "    # Metrics\n",
        "    accuracy = accuracy_score(y_test, y_pred)\n",
        "    f1 = f1_score(y_test, y_pred, average='weighted')\n",
        "    results[name] = {'Accuracy': accuracy, 'F1 Score': f1}\n",
        "    print(f\"\\n{name} Results:\")\n",
        "    print(classification_report(y_test, y_pred, target_names=['negative', 'positive', 'neutral']))\n",
        "    # Confusion Matrix\n",
        "    cm = confusion_matrix(y_test, y_pred)\n",
        "    plt.figure(figsize=(6, 4))\n",
        "    sns.heatmap(cm, annot=True, fmt='d', cmap='Blues', xticklabels=['negative', 'positive', 'neutral'], yticklabels=['negative', 'positive', 'neutral'])\n",
        "    plt.title(f'{name} Confusion Matrix')\n",
        "    plt.xlabel('Predicted')\n",
        "    plt.ylabel('Actual')\n",
        "    plt.show()\n",
        "\n",
        "# Summary of results\n",
        "print(\"\\nModel Performance Summary:\")\n",
        "for name, metrics in results.items():\n",
        "    print(f\"{name}: Accuracy = {metrics['Accuracy']:.2f}, F1 Score = {metrics['F1 Score']:.2f}\")\n",
        "\n",
        "# Select best model based on F1 Score (more balanced metric for multi-class)\n",
        "best_model_name = max(results, key=lambda x: results[x]['F1 Score'])\n",
        "best_model = models[best_model_name]\n",
        "print(f\"\\nBest Model: {best_model_name} with F1 Score = {results[best_model_name]['F1 Score']:.2f}\")"
      ],
      "metadata": {
        "id": "LosTcGPETMcb"
      },
      "execution_count": null,
      "outputs": []
    },
    {
      "cell_type": "markdown",
      "source": [
        "# **Step 45: Clustering using K-Means and DBSCAN**"
      ],
      "metadata": {
        "id": "gta88JHfUSve"
      }
    },
    {
      "cell_type": "code",
      "source": [
        "# K-Means Clustering\n",
        "kmeans = KMeans(n_clusters=3, random_state=42)\n",
        "kmeans_labels = kmeans.fit_predict(X)\n",
        "df['KMeans_Cluster'] = kmeans_labels\n",
        "print(\"\\nK-Means Cluster Distribution:\")\n",
        "print(df.groupby(['KMeans_Cluster', 'Sentiment']).size())\n",
        "\n",
        "# DBSCAN Clustering\n",
        "dbscan = DBSCAN(eps=0.5, min_samples=5)\n",
        "dbscan_labels = dbscan.fit_predict(X.toarray())  # Convert to dense array for DBSCAN\n",
        "df['DBSCAN_Cluster'] = dbscan_labels\n",
        "print(\"\\nDBSCAN Cluster Distribution:\")\n",
        "print(df.groupby(['DBSCAN_Cluster', 'Sentiment']).size().head())  # Limited output due to noise (-1)\n",
        "\n",
        "# Note: Clustering may not align well with sentiment due to high-dimensional TF-IDF space"
      ],
      "metadata": {
        "id": "44Z5CAKYTPQi"
      },
      "execution_count": null,
      "outputs": []
    },
    {
      "cell_type": "markdown",
      "source": [
        "# **Step 46: Predicting sentiment for a new review using the best ML model**"
      ],
      "metadata": {
        "id": "mF9z9LhPUU3L"
      }
    },
    {
      "cell_type": "code",
      "source": [
        "# New review\n",
        "new_review = \"This product is absolutely amazing and works perfectly!\"\n",
        "new_review_cleaned = clean_text(new_review)\n",
        "new_review_tfidf = tfidf.transform([new_review_cleaned])\n",
        "new_prediction = best_model.predict(new_review_tfidf)\n",
        "sentiment_map = {0: 'negative', 1: 'positive', 2: 'neutral'}\n",
        "print(f\"\\nPrediction for new review: {sentiment_map[new_prediction[0]]}\")\n",
        "print(f\"New review text: {new_review}\")\n",
        "\n",
        "# Probability (if available)\n",
        "if hasattr(best_model, 'predict_proba'):\n",
        "    new_prob = best_model.predict_proba(new_review_tfidf)\n",
        "    print(f\"Prediction probabilities: {dict(zip(['negative', 'positive', 'neutral'], new_prob[0]))}\")"
      ],
      "metadata": {
        "id": "jMO-EAOuTQ4i"
      },
      "execution_count": null,
      "outputs": []
    },
    {
      "cell_type": "markdown",
      "source": [
        "# **Step 47: Importing essential libraries and downloading NLTK resources**"
      ],
      "metadata": {
        "id": "2W2xB11uUXQK"
      }
    },
    {
      "cell_type": "code",
      "source": [
        "import pandas as pd\n",
        "import numpy as np\n",
        "from sklearn.feature_extraction.text import TfidfVectorizer\n",
        "from sklearn.neighbors import KNeighborsClassifier\n",
        "from sklearn.svm import SVC\n",
        "from sklearn.tree import DecisionTreeClassifier\n",
        "from sklearn.ensemble import RandomForestClassifier, GradientBoostingClassifier\n",
        "from nltk.corpus import stopwords\n",
        "import re\n",
        "import joblib\n",
        "from sklearn.model_selection import train_test_split\n",
        "\n",
        "# Download NLTK data (if not already downloaded)\n",
        "try:\n",
        "    import nltk\n",
        "    nltk.download('stopwords')\n",
        "    nltk.download('vader_lexicon')\n",
        "except:\n",
        "    pass"
      ],
      "metadata": {
        "id": "ACTSAEjhTShr"
      },
      "execution_count": null,
      "outputs": []
    },
    {
      "cell_type": "markdown",
      "source": [
        "# **Step 48: Preprocessing reviews, training SVM model, and saving it**"
      ],
      "metadata": {
        "id": "rMsJKvdHUZQj"
      }
    },
    {
      "cell_type": "code",
      "source": [
        "import pandas as pd\n",
        "import numpy as np\n",
        "from sklearn.feature_extraction.text import TfidfVectorizer\n",
        "from sklearn.svm import SVC\n",
        "from sklearn.model_selection import train_test_split\n",
        "from nltk.corpus import stopwords\n",
        "import re\n",
        "import joblib\n",
        "\n",
        "# Load dataset\n",
        "df = pd.read_csv('/content/Reviews_cleaned.csv')  # Use Reviews.csv since Reviews_cleaned.csv may not exist\n",
        "\n",
        "# Create Sentiment column from Score\n",
        "df['Sentiment'] = df['Score'].apply(lambda x: 'positive' if x >= 4 else 'negative' if x <= 2 else 'neutral')\n",
        "\n",
        "# Clean text function\n",
        "def clean_text(text):\n",
        "    # Handle non-string inputs (e.g., if Text is missing or not a string)\n",
        "    if not isinstance(text, str):\n",
        "        text = str(text)\n",
        "    text = re.sub(r'[^\\w\\s]', '', text)\n",
        "    stop_words = set(stopwords.words('english')) - {'not'}\n",
        "    text = ' '.join(word for word in text.split() if word.lower() not in stop_words)\n",
        "    return text\n",
        "\n",
        "# Apply text cleaning\n",
        "df['Text_Cleaned'] = df['Text'].apply(clean_text)\n",
        "\n",
        "# Initialize and fit the TF-IDF vectorizer\n",
        "tfidf = TfidfVectorizer(max_features=5000, ngram_range=(1, 2))\n",
        "X = tfidf.fit_transform(df['Text_Cleaned'])  # Fit and transform in one step\n",
        "y = df['Sentiment'].map({'positive': 1, 'negative': 0, 'neutral': 2})\n",
        "\n",
        "# Split the data\n",
        "X_train, X_test, y_train, y_test = train_test_split(X, y, test_size=0.2, random_state=42)\n",
        "\n",
        "# Train SVM model\n",
        "svm = SVC(kernel='linear', probability=True, random_state=42)\n",
        "svm.fit(X_train, y_train)\n",
        "\n",
        "# Save the vectorizer and model for future use\n",
        "joblib.dump(tfidf, 'tfidf_vectorizer.pkl')\n",
        "joblib.dump(svm, 'svm_model.pkl')\n",
        "\n",
        "# Function to predict sentiment\n",
        "def predict_sentiment(review):\n",
        "    review_cleaned = clean_text(review)\n",
        "    review_tfidf = tfidf.transform([review_cleaned])  # Transform the new review\n",
        "    sentiment_map = {0: 'negative', 1: 'positive', 2: 'neutral'}\n",
        "    prediction = svm.predict(review_tfidf)\n",
        "    probs = svm.predict_proba(review_tfidf)[0]\n",
        "    probs_dict = dict(zip(['negative', 'positive', 'neutral'], probs))\n",
        "    print(f\"\\nReview: {review}\")\n",
        "    print(f\"SVM Prediction: {sentiment_map[prediction[0]]}\")\n",
        "    print(f\"SVM Probabilities: {probs_dict}\")\n",
        "\n",
        "# Test the review\n",
        "predict_sentiment(\"The taste is not so good\")"
      ],
      "metadata": {
        "id": "72lpPcT6TUZE"
      },
      "execution_count": null,
      "outputs": []
    },
    {
      "cell_type": "markdown",
      "source": [
        "# **Step 49:  Displaying sentiment distribution**"
      ],
      "metadata": {
        "id": "Iyw8PfNKUeg7"
      }
    },
    {
      "cell_type": "code",
      "source": [
        "print(df['Sentiment'].value_counts())"
      ],
      "metadata": {
        "id": "vg01KRHNTWhL"
      },
      "execution_count": null,
      "outputs": []
    },
    {
      "cell_type": "markdown",
      "source": [
        "# **Step 50: Testing the text cleaning function**"
      ],
      "metadata": {
        "id": "FGA5qW4EUiej"
      }
    },
    {
      "cell_type": "code",
      "source": [
        "print(clean_text(\"The taste is not so good\"))  # Should output: \"taste not good\""
      ],
      "metadata": {
        "id": "0bDEpSziTZLL"
      },
      "execution_count": null,
      "outputs": []
    },
    {
      "cell_type": "markdown",
      "source": [
        "# **Step 51: Sentiment prediction using Hugging Face’s transformer pipeline**"
      ],
      "metadata": {
        "id": "IarvAkkeUtqr"
      }
    },
    {
      "cell_type": "code",
      "source": [
        "from transformers import pipeline\n",
        "sentiment_analyzer = pipeline(\"sentiment-analysis\")\n",
        "print(sentiment_analyzer(\"The taste is not so good\"))"
      ],
      "metadata": {
        "id": "UNsBv-IsTasj"
      },
      "execution_count": null,
      "outputs": []
    },
    {
      "cell_type": "markdown",
      "source": [
        "# **Step 52: Interactive sentiment analysis using Hugging Face pipeline**"
      ],
      "metadata": {
        "id": "GtBwV4ZlUvky"
      }
    },
    {
      "cell_type": "code",
      "source": [
        "from transformers import pipeline\n",
        "\n",
        "# Initialize the sentiment analysis pipeline\n",
        "sentiment_analyzer = pipeline(\"sentiment-analysis\")\n",
        "\n",
        "# Function to predict sentiment\n",
        "def predict_sentiment(review):\n",
        "    result = sentiment_analyzer(review)\n",
        "    print(f\"\\nReview: {review}\")\n",
        "    print(f\"Sentiment: {result[0]['label']}\")\n",
        "    print(f\"Confidence Score: {result[0]['score']:.4f}\")\n",
        "\n",
        "# Main loop to take user input\n",
        "while True:\n",
        "    user_review = input(\"\\nPlease enter a review (or type 'exit' to quit): \")\n",
        "    if user_review.lower() == 'exit':\n",
        "        print(\"Exiting the program. Goodbye!\")\n",
        "        break\n",
        "    if not user_review.strip():\n",
        "        print(\"Please enter a valid review.\")\n",
        "        continue\n",
        "    predict_sentiment(user_review)\n"
      ],
      "metadata": {
        "id": "sG-IBUgpTcVs"
      },
      "execution_count": null,
      "outputs": []
    },
    {
      "cell_type": "markdown",
      "source": [
        "# **Step 53: Final pipeline with SVM + BERT comparison, using SMOTE for balancing**"
      ],
      "metadata": {
        "id": "C3x2Hl1QUxaL"
      }
    },
    {
      "cell_type": "code",
      "source": [
        "import pandas as pd\n",
        "import numpy as np\n",
        "from sklearn.feature_extraction.text import TfidfVectorizer\n",
        "from sklearn.svm import SVC\n",
        "from sklearn.model_selection import train_test_split\n",
        "from sklearn.metrics import classification_report\n",
        "from imblearn.over_sampling import SMOTE\n",
        "from nltk.corpus import stopwords\n",
        "import re\n",
        "import joblib\n",
        "from transformers import pipeline\n",
        "import csv\n",
        "\n",
        "# Initialize BERT-based sentiment analyzer\n",
        "sentiment_analyzer = pipeline(\"sentiment-analysis\", model=\"nlptown/bert-base-multilingual-uncased-sentiment\")\n",
        "\n",
        "# Load dataset\n",
        "df = pd.read_csv('/content/Reviews_cleaned.csv')\n",
        "\n",
        "# Create Sentiment column from Score\n",
        "df['Sentiment'] = df['Score'].apply(lambda x: 'positive' if x >= 4 else 'negative' if x <= 2 else 'neutral')\n",
        "\n",
        "# Check sentiment distribution before SMOTE\n",
        "print(\"Sentiment Distribution Before SMOTE:\")\n",
        "print(df['Sentiment'].value_counts())\n",
        "\n",
        "# Clean text function\n",
        "def clean_text(text):\n",
        "    if not isinstance(text, str):\n",
        "        text = str(text)\n",
        "    text = re.sub(r'[^\\w\\s]', '', text)\n",
        "    stop_words = set(stopwords.words('english')) - {'not', 'no', 'never'}\n",
        "    text = ' '.join(word for word in text.split() if word.lower() not in stop_words)\n",
        "    return text\n",
        "\n",
        "# Apply text cleaning\n",
        "df['Text_Cleaned'] = df['Text'].apply(clean_text)\n",
        "\n",
        "# Check cleaned text for the review\n",
        "test_review = \"The taste is not so good\"\n",
        "print(f\"\\nCleaned review: {clean_text(test_review)}\")\n",
        "\n",
        "# Initialize and fit the TF-IDF vectorizer\n",
        "tfidf = TfidfVectorizer(max_features=5000, ngram_range=(1, 2))\n",
        "X = tfidf.fit_transform(df['Text_Cleaned'])\n",
        "y = df['Sentiment'].map({'positive': 1, 'negative': 0, 'neutral': 2})\n",
        "\n",
        "# Split the data\n",
        "X_train, X_test, y_train, y_test = train_test_split(X, y, test_size=0.2, random_state=42)\n",
        "\n",
        "# Apply SMOTE to balance the training set\n",
        "smote = SMOTE(random_state=42)\n",
        "X_train_balanced, y_train_balanced = smote.fit_resample(X_train, y_train)\n",
        "\n",
        "# Check sentiment distribution after SMOTE\n",
        "print(\"\\nSentiment Distribution After SMOTE (Training Set):\")\n",
        "print(pd.Series(y_train_balanced).value_counts())\n",
        "\n",
        "# Train SVM model on balanced data\n",
        "svm = SVC(kernel='linear', probability=True, random_state=42)\n",
        "svm.fit(X_train_balanced, y_train_balanced)\n",
        "\n",
        "# Save the vectorizer and model\n",
        "joblib.dump(tfidf, 'tfidf_vectorizer.pkl')\n",
        "joblib.dump(svm, 'svm_model.pkl')\n",
        "\n",
        "# Evaluate SVM model on test set\n",
        "y_pred = svm.predict(X_test)\n",
        "print(\"\\nSVM Model Performance on Test Set:\")\n",
        "print(classification_report(y_test, y_pred, target_names=['negative', 'positive', 'neutral']))\n",
        "\n",
        "# Function to predict sentiment with SVM\n",
        "def predict_sentiment_svm(review):\n",
        "    review_cleaned = clean_text(review)\n",
        "    review_tfidf = tfidf.transform([review_cleaned])\n",
        "    sentiment_map = {0: 'negative', 1: 'positive', 2: 'neutral'}\n",
        "    prediction = svm.predict(review_tfidf)\n",
        "    probs = svm.predict_proba(review_tfidf)[0]\n",
        "    probs_dict = dict(zip(['negative', 'positive', 'neutral'], probs))\n",
        "    print(f\"\\nSVM Prediction for Review: {review}\")\n",
        "    print(f\"SVM Sentiment: {sentiment_map[prediction[0]]}\")\n",
        "    print(f\"SVM Probabilities: {probs_dict}\")\n",
        "\n",
        "# Function to predict sentiment with BERT\n",
        "def predict_sentiment_bert(review):\n",
        "    result = sentiment_analyzer(review)\n",
        "    star_rating = int(result[0]['label'].split()[0])\n",
        "    sentiment = 'positive' if star_rating >= 4 else 'negative' if star_rating <= 2 else 'neutral'\n",
        "    print(f\"\\nBERT Prediction for Review: {review}\")\n",
        "    print(f\"BERT Sentiment: {sentiment}\")\n",
        "    print(f\"BERT Confidence Score: {result[0]['score']:.4f} (Star Rating: {star_rating})\")\n",
        "\n",
        "# Test the review with both models\n",
        "predict_sentiment_svm(test_review)\n",
        "predict_sentiment_bert(test_review)\n",
        "\n",
        "# Main loop for user input\n",
        "while True:\n",
        "    user_review = input(\"\\nPlease enter a review (or type 'exit' to quit): \")\n",
        "    if user_review.lower() == 'exit':\n",
        "        print(\"Exiting the program. Goodbye!\")\n",
        "        break\n",
        "    if not user_review.strip():\n",
        "        print(\"Please enter a valid review.\")\n",
        "        continue\n",
        "    predict_sentiment_svm(user_review)\n",
        "    predict_sentiment_bert(user_review)"
      ],
      "metadata": {
        "id": "664f5jGqTeAf"
      },
      "execution_count": null,
      "outputs": []
    },
    {
      "cell_type": "markdown",
      "source": [
        "# **Step 54: Closing The Project Source Code**"
      ],
      "metadata": {
        "id": "cZvbi6zVU1Bi"
      }
    },
    {
      "cell_type": "code",
      "source": [
        "# Main loop for user input\n",
        "while True:\n",
        "    user_review = input(\"\\nPlease enter a review (or type 'exit' to quit): \")\n",
        "    if user_review.lower() == 'exit':\n",
        "        print(\"Exiting the program. Goodbye!\")\n",
        "        break\n",
        "    if not user_review.strip():\n",
        "        print(\"Please enter a valid review.\")\n",
        "        continue\n",
        "    predict_sentiment_svm(user_review)"
      ],
      "metadata": {
        "id": "O_Wyx81uTggD"
      },
      "execution_count": null,
      "outputs": []
    }
  ]
}